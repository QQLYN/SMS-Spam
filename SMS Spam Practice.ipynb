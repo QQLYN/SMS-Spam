{
 "cells": [
  {
   "cell_type": "code",
   "execution_count": 1,
   "metadata": {
    "_cell_guid": "b1076dfc-b9ad-4769-8c92-a6c4dae69d19",
    "_uuid": "8f2839f25d086af736a60e9eeb907d3b93b6e0e5",
    "execution": {
     "iopub.execute_input": "2021-02-02T08:00:21.870254Z",
     "iopub.status.busy": "2021-02-02T08:00:21.869597Z",
     "iopub.status.idle": "2021-02-02T08:00:21.880619Z",
     "shell.execute_reply": "2021-02-02T08:00:21.879874Z"
    },
    "papermill": {
     "duration": 0.040913,
     "end_time": "2021-02-02T08:00:21.880835",
     "exception": false,
     "start_time": "2021-02-02T08:00:21.839922",
     "status": "completed"
    },
    "tags": []
   },
   "outputs": [
    {
     "name": "stdout",
     "output_type": "stream",
     "text": [
      "/kaggle/input/sms-spam-collection-dataset/spam.csv\n"
     ]
    }
   ],
   "source": [
    "# This Python 3 environment comes with many helpful analytics libraries installed\n",
    "# It is defined by the kaggle/python Docker image: https://github.com/kaggle/docker-python\n",
    "# For example, here's several helpful packages to load\n",
    "\n",
    "import numpy as np # linear algebra\n",
    "import pandas as pd # data processing, CSV file I/O (e.g. pd.read_csv)\n",
    "\n",
    "# Input data files are available in the read-only \"../input/\" directory\n",
    "# For example, running this (by clicking run or pressing Shift+Enter) will list all files under the input directory\n",
    "\n",
    "import os\n",
    "for dirname, _, filenames in os.walk('/kaggle/input'):\n",
    "    for filename in filenames:\n",
    "        print(os.path.join(dirname, filename))\n",
    "\n",
    "# You can write up to 20GB to the current directory (/kaggle/working/) that gets preserved as output when you create a version using \"Save & Run All\" \n",
    "# You can also write temporary files to /kaggle/temp/, but they won't be saved outside of the current session"
   ]
  },
  {
   "cell_type": "code",
   "execution_count": 2,
   "metadata": {
    "execution": {
     "iopub.execute_input": "2021-02-02T08:00:21.927109Z",
     "iopub.status.busy": "2021-02-02T08:00:21.926075Z",
     "iopub.status.idle": "2021-02-02T08:00:21.988665Z",
     "shell.execute_reply": "2021-02-02T08:00:21.989131Z"
    },
    "papermill": {
     "duration": 0.086927,
     "end_time": "2021-02-02T08:00:21.989326",
     "exception": false,
     "start_time": "2021-02-02T08:00:21.902399",
     "status": "completed"
    },
    "tags": []
   },
   "outputs": [
    {
     "data": {
      "text/html": [
       "<div>\n",
       "<style scoped>\n",
       "    .dataframe tbody tr th:only-of-type {\n",
       "        vertical-align: middle;\n",
       "    }\n",
       "\n",
       "    .dataframe tbody tr th {\n",
       "        vertical-align: top;\n",
       "    }\n",
       "\n",
       "    .dataframe thead th {\n",
       "        text-align: right;\n",
       "    }\n",
       "</style>\n",
       "<table border=\"1\" class=\"dataframe\">\n",
       "  <thead>\n",
       "    <tr style=\"text-align: right;\">\n",
       "      <th></th>\n",
       "      <th>label</th>\n",
       "      <th>content</th>\n",
       "    </tr>\n",
       "  </thead>\n",
       "  <tbody>\n",
       "    <tr>\n",
       "      <th>0</th>\n",
       "      <td>ham</td>\n",
       "      <td>Go until jurong point, crazy.. Available only ...</td>\n",
       "    </tr>\n",
       "    <tr>\n",
       "      <th>1</th>\n",
       "      <td>ham</td>\n",
       "      <td>Ok lar... Joking wif u oni...</td>\n",
       "    </tr>\n",
       "    <tr>\n",
       "      <th>2</th>\n",
       "      <td>spam</td>\n",
       "      <td>Free entry in 2 a wkly comp to win FA Cup fina...</td>\n",
       "    </tr>\n",
       "    <tr>\n",
       "      <th>3</th>\n",
       "      <td>ham</td>\n",
       "      <td>U dun say so early hor... U c already then say...</td>\n",
       "    </tr>\n",
       "    <tr>\n",
       "      <th>4</th>\n",
       "      <td>ham</td>\n",
       "      <td>Nah I don't think he goes to usf, he lives aro...</td>\n",
       "    </tr>\n",
       "  </tbody>\n",
       "</table>\n",
       "</div>"
      ],
      "text/plain": [
       "  label                                            content\n",
       "0   ham  Go until jurong point, crazy.. Available only ...\n",
       "1   ham                      Ok lar... Joking wif u oni...\n",
       "2  spam  Free entry in 2 a wkly comp to win FA Cup fina...\n",
       "3   ham  U dun say so early hor... U c already then say...\n",
       "4   ham  Nah I don't think he goes to usf, he lives aro..."
      ]
     },
     "execution_count": 2,
     "metadata": {},
     "output_type": "execute_result"
    }
   ],
   "source": [
    "def readData_rawSMS(filepath):\n",
    "    data_rawSMS = pd.read_csv(filepath, header=0, usecols=[0,1], encoding='latin-1')\n",
    "    data_rawSMS.columns = ['label','content']\n",
    "    return data_rawSMS\n",
    "\n",
    "data_rawSMS = readData_rawSMS(os.path.join(dirname,filename))\n",
    "data_rawSMS.head()"
   ]
  },
  {
   "cell_type": "code",
   "execution_count": 3,
   "metadata": {
    "execution": {
     "iopub.execute_input": "2021-02-02T08:00:22.037628Z",
     "iopub.status.busy": "2021-02-02T08:00:22.036595Z",
     "iopub.status.idle": "2021-02-02T08:00:22.080211Z",
     "shell.execute_reply": "2021-02-02T08:00:22.079538Z"
    },
    "papermill": {
     "duration": 0.06873,
     "end_time": "2021-02-02T08:00:22.080378",
     "exception": false,
     "start_time": "2021-02-02T08:00:22.011648",
     "status": "completed"
    },
    "tags": []
   },
   "outputs": [
    {
     "data": {
      "text/html": [
       "<div>\n",
       "<style scoped>\n",
       "    .dataframe tbody tr th:only-of-type {\n",
       "        vertical-align: middle;\n",
       "    }\n",
       "\n",
       "    .dataframe tbody tr th {\n",
       "        vertical-align: top;\n",
       "    }\n",
       "\n",
       "    .dataframe thead th {\n",
       "        text-align: right;\n",
       "    }\n",
       "</style>\n",
       "<table border=\"1\" class=\"dataframe\">\n",
       "  <thead>\n",
       "    <tr style=\"text-align: right;\">\n",
       "      <th></th>\n",
       "      <th>label</th>\n",
       "      <th>content</th>\n",
       "    </tr>\n",
       "  </thead>\n",
       "  <tbody>\n",
       "    <tr>\n",
       "      <th>count</th>\n",
       "      <td>5572</td>\n",
       "      <td>5572</td>\n",
       "    </tr>\n",
       "    <tr>\n",
       "      <th>unique</th>\n",
       "      <td>2</td>\n",
       "      <td>5169</td>\n",
       "    </tr>\n",
       "    <tr>\n",
       "      <th>top</th>\n",
       "      <td>ham</td>\n",
       "      <td>Sorry, I'll call later</td>\n",
       "    </tr>\n",
       "    <tr>\n",
       "      <th>freq</th>\n",
       "      <td>4825</td>\n",
       "      <td>30</td>\n",
       "    </tr>\n",
       "  </tbody>\n",
       "</table>\n",
       "</div>"
      ],
      "text/plain": [
       "       label                 content\n",
       "count   5572                    5572\n",
       "unique     2                    5169\n",
       "top      ham  Sorry, I'll call later\n",
       "freq    4825                      30"
      ]
     },
     "execution_count": 3,
     "metadata": {},
     "output_type": "execute_result"
    }
   ],
   "source": [
    "data_rawSMS.describe()"
   ]
  },
  {
   "cell_type": "code",
   "execution_count": 4,
   "metadata": {
    "execution": {
     "iopub.execute_input": "2021-02-02T08:00:22.137648Z",
     "iopub.status.busy": "2021-02-02T08:00:22.136926Z",
     "iopub.status.idle": "2021-02-02T08:00:22.170321Z",
     "shell.execute_reply": "2021-02-02T08:00:22.169776Z"
    },
    "papermill": {
     "duration": 0.068298,
     "end_time": "2021-02-02T08:00:22.170497",
     "exception": false,
     "start_time": "2021-02-02T08:00:22.102199",
     "status": "completed"
    },
    "tags": []
   },
   "outputs": [
    {
     "data": {
      "text/html": [
       "<div>\n",
       "<style scoped>\n",
       "    .dataframe tbody tr th:only-of-type {\n",
       "        vertical-align: middle;\n",
       "    }\n",
       "\n",
       "    .dataframe tbody tr th {\n",
       "        vertical-align: top;\n",
       "    }\n",
       "\n",
       "    .dataframe thead tr th {\n",
       "        text-align: left;\n",
       "    }\n",
       "\n",
       "    .dataframe thead tr:last-of-type th {\n",
       "        text-align: right;\n",
       "    }\n",
       "</style>\n",
       "<table border=\"1\" class=\"dataframe\">\n",
       "  <thead>\n",
       "    <tr>\n",
       "      <th></th>\n",
       "      <th colspan=\"4\" halign=\"left\">content</th>\n",
       "    </tr>\n",
       "    <tr>\n",
       "      <th></th>\n",
       "      <th>count</th>\n",
       "      <th>unique</th>\n",
       "      <th>top</th>\n",
       "      <th>freq</th>\n",
       "    </tr>\n",
       "    <tr>\n",
       "      <th>label</th>\n",
       "      <th></th>\n",
       "      <th></th>\n",
       "      <th></th>\n",
       "      <th></th>\n",
       "    </tr>\n",
       "  </thead>\n",
       "  <tbody>\n",
       "    <tr>\n",
       "      <th>ham</th>\n",
       "      <td>4825</td>\n",
       "      <td>4516</td>\n",
       "      <td>Sorry, I'll call later</td>\n",
       "      <td>30</td>\n",
       "    </tr>\n",
       "    <tr>\n",
       "      <th>spam</th>\n",
       "      <td>747</td>\n",
       "      <td>653</td>\n",
       "      <td>Please call our customer service representativ...</td>\n",
       "      <td>4</td>\n",
       "    </tr>\n",
       "  </tbody>\n",
       "</table>\n",
       "</div>"
      ],
      "text/plain": [
       "      content                                                               \n",
       "        count unique                                                top freq\n",
       "label                                                                       \n",
       "ham      4825   4516                             Sorry, I'll call later   30\n",
       "spam      747    653  Please call our customer service representativ...    4"
      ]
     },
     "execution_count": 4,
     "metadata": {},
     "output_type": "execute_result"
    }
   ],
   "source": [
    "data_rawSMS.groupby('label').describe()"
   ]
  },
  {
   "cell_type": "code",
   "execution_count": 5,
   "metadata": {
    "execution": {
     "iopub.execute_input": "2021-02-02T08:00:22.231638Z",
     "iopub.status.busy": "2021-02-02T08:00:22.230752Z",
     "iopub.status.idle": "2021-02-02T08:00:22.234959Z",
     "shell.execute_reply": "2021-02-02T08:00:22.234290Z"
    },
    "papermill": {
     "duration": 0.041064,
     "end_time": "2021-02-02T08:00:22.235106",
     "exception": false,
     "start_time": "2021-02-02T08:00:22.194042",
     "status": "completed"
    },
    "tags": []
   },
   "outputs": [
    {
     "data": {
      "text/html": [
       "<div>\n",
       "<style scoped>\n",
       "    .dataframe tbody tr th:only-of-type {\n",
       "        vertical-align: middle;\n",
       "    }\n",
       "\n",
       "    .dataframe tbody tr th {\n",
       "        vertical-align: top;\n",
       "    }\n",
       "\n",
       "    .dataframe thead th {\n",
       "        text-align: right;\n",
       "    }\n",
       "</style>\n",
       "<table border=\"1\" class=\"dataframe\">\n",
       "  <thead>\n",
       "    <tr style=\"text-align: right;\">\n",
       "      <th></th>\n",
       "      <th>label</th>\n",
       "      <th>content</th>\n",
       "      <th>length</th>\n",
       "    </tr>\n",
       "  </thead>\n",
       "  <tbody>\n",
       "    <tr>\n",
       "      <th>0</th>\n",
       "      <td>ham</td>\n",
       "      <td>Go until jurong point, crazy.. Available only ...</td>\n",
       "      <td>111</td>\n",
       "    </tr>\n",
       "    <tr>\n",
       "      <th>1</th>\n",
       "      <td>ham</td>\n",
       "      <td>Ok lar... Joking wif u oni...</td>\n",
       "      <td>29</td>\n",
       "    </tr>\n",
       "    <tr>\n",
       "      <th>2</th>\n",
       "      <td>spam</td>\n",
       "      <td>Free entry in 2 a wkly comp to win FA Cup fina...</td>\n",
       "      <td>155</td>\n",
       "    </tr>\n",
       "    <tr>\n",
       "      <th>3</th>\n",
       "      <td>ham</td>\n",
       "      <td>U dun say so early hor... U c already then say...</td>\n",
       "      <td>49</td>\n",
       "    </tr>\n",
       "    <tr>\n",
       "      <th>4</th>\n",
       "      <td>ham</td>\n",
       "      <td>Nah I don't think he goes to usf, he lives aro...</td>\n",
       "      <td>61</td>\n",
       "    </tr>\n",
       "  </tbody>\n",
       "</table>\n",
       "</div>"
      ],
      "text/plain": [
       "  label                                            content  length\n",
       "0   ham  Go until jurong point, crazy.. Available only ...     111\n",
       "1   ham                      Ok lar... Joking wif u oni...      29\n",
       "2  spam  Free entry in 2 a wkly comp to win FA Cup fina...     155\n",
       "3   ham  U dun say so early hor... U c already then say...      49\n",
       "4   ham  Nah I don't think he goes to usf, he lives aro...      61"
      ]
     },
     "execution_count": 5,
     "metadata": {},
     "output_type": "execute_result"
    }
   ],
   "source": [
    "data_rawSMS['length'] = data_rawSMS['content'].apply(len)\n",
    "data_rawSMS.head()"
   ]
  },
  {
   "cell_type": "code",
   "execution_count": 6,
   "metadata": {
    "execution": {
     "iopub.execute_input": "2021-02-02T08:00:22.290407Z",
     "iopub.status.busy": "2021-02-02T08:00:22.289626Z",
     "iopub.status.idle": "2021-02-02T08:00:22.321534Z",
     "shell.execute_reply": "2021-02-02T08:00:22.320910Z"
    },
    "papermill": {
     "duration": 0.063347,
     "end_time": "2021-02-02T08:00:22.321689",
     "exception": false,
     "start_time": "2021-02-02T08:00:22.258342",
     "status": "completed"
    },
    "tags": []
   },
   "outputs": [
    {
     "data": {
      "text/html": [
       "<div>\n",
       "<style scoped>\n",
       "    .dataframe tbody tr th:only-of-type {\n",
       "        vertical-align: middle;\n",
       "    }\n",
       "\n",
       "    .dataframe tbody tr th {\n",
       "        vertical-align: top;\n",
       "    }\n",
       "\n",
       "    .dataframe thead tr th {\n",
       "        text-align: left;\n",
       "    }\n",
       "\n",
       "    .dataframe thead tr:last-of-type th {\n",
       "        text-align: right;\n",
       "    }\n",
       "</style>\n",
       "<table border=\"1\" class=\"dataframe\">\n",
       "  <thead>\n",
       "    <tr>\n",
       "      <th></th>\n",
       "      <th colspan=\"8\" halign=\"left\">length</th>\n",
       "    </tr>\n",
       "    <tr>\n",
       "      <th></th>\n",
       "      <th>count</th>\n",
       "      <th>mean</th>\n",
       "      <th>std</th>\n",
       "      <th>min</th>\n",
       "      <th>25%</th>\n",
       "      <th>50%</th>\n",
       "      <th>75%</th>\n",
       "      <th>max</th>\n",
       "    </tr>\n",
       "    <tr>\n",
       "      <th>label</th>\n",
       "      <th></th>\n",
       "      <th></th>\n",
       "      <th></th>\n",
       "      <th></th>\n",
       "      <th></th>\n",
       "      <th></th>\n",
       "      <th></th>\n",
       "      <th></th>\n",
       "    </tr>\n",
       "  </thead>\n",
       "  <tbody>\n",
       "    <tr>\n",
       "      <th>ham</th>\n",
       "      <td>4825.0</td>\n",
       "      <td>71.023627</td>\n",
       "      <td>58.016023</td>\n",
       "      <td>2.0</td>\n",
       "      <td>33.0</td>\n",
       "      <td>52.0</td>\n",
       "      <td>92.0</td>\n",
       "      <td>910.0</td>\n",
       "    </tr>\n",
       "    <tr>\n",
       "      <th>spam</th>\n",
       "      <td>747.0</td>\n",
       "      <td>138.866131</td>\n",
       "      <td>29.183082</td>\n",
       "      <td>13.0</td>\n",
       "      <td>132.5</td>\n",
       "      <td>149.0</td>\n",
       "      <td>157.0</td>\n",
       "      <td>224.0</td>\n",
       "    </tr>\n",
       "  </tbody>\n",
       "</table>\n",
       "</div>"
      ],
      "text/plain": [
       "       length                                                         \n",
       "        count        mean        std   min    25%    50%    75%    max\n",
       "label                                                                 \n",
       "ham    4825.0   71.023627  58.016023   2.0   33.0   52.0   92.0  910.0\n",
       "spam    747.0  138.866131  29.183082  13.0  132.5  149.0  157.0  224.0"
      ]
     },
     "execution_count": 6,
     "metadata": {},
     "output_type": "execute_result"
    }
   ],
   "source": [
    "data_rawSMS.groupby('label').describe()"
   ]
  },
  {
   "cell_type": "code",
   "execution_count": 7,
   "metadata": {
    "execution": {
     "iopub.execute_input": "2021-02-02T08:00:22.384037Z",
     "iopub.status.busy": "2021-02-02T08:00:22.383383Z",
     "iopub.status.idle": "2021-02-02T08:00:22.387509Z",
     "shell.execute_reply": "2021-02-02T08:00:22.386946Z"
    },
    "papermill": {
     "duration": 0.042403,
     "end_time": "2021-02-02T08:00:22.387677",
     "exception": false,
     "start_time": "2021-02-02T08:00:22.345274",
     "status": "completed"
    },
    "tags": []
   },
   "outputs": [
    {
     "data": {
      "text/html": [
       "<div>\n",
       "<style scoped>\n",
       "    .dataframe tbody tr th:only-of-type {\n",
       "        vertical-align: middle;\n",
       "    }\n",
       "\n",
       "    .dataframe tbody tr th {\n",
       "        vertical-align: top;\n",
       "    }\n",
       "\n",
       "    .dataframe thead th {\n",
       "        text-align: right;\n",
       "    }\n",
       "</style>\n",
       "<table border=\"1\" class=\"dataframe\">\n",
       "  <thead>\n",
       "    <tr style=\"text-align: right;\">\n",
       "      <th></th>\n",
       "      <th>label</th>\n",
       "      <th>content</th>\n",
       "      <th>length</th>\n",
       "    </tr>\n",
       "  </thead>\n",
       "  <tbody>\n",
       "    <tr>\n",
       "      <th>0</th>\n",
       "      <td>ham</td>\n",
       "      <td>Go until jurong point, crazy.. Available only ...</td>\n",
       "      <td>111</td>\n",
       "    </tr>\n",
       "    <tr>\n",
       "      <th>1</th>\n",
       "      <td>ham</td>\n",
       "      <td>Ok lar... Joking wif u oni...</td>\n",
       "      <td>29</td>\n",
       "    </tr>\n",
       "    <tr>\n",
       "      <th>3</th>\n",
       "      <td>ham</td>\n",
       "      <td>U dun say so early hor... U c already then say...</td>\n",
       "      <td>49</td>\n",
       "    </tr>\n",
       "    <tr>\n",
       "      <th>4</th>\n",
       "      <td>ham</td>\n",
       "      <td>Nah I don't think he goes to usf, he lives aro...</td>\n",
       "      <td>61</td>\n",
       "    </tr>\n",
       "    <tr>\n",
       "      <th>6</th>\n",
       "      <td>ham</td>\n",
       "      <td>Even my brother is not like to speak with me. ...</td>\n",
       "      <td>77</td>\n",
       "    </tr>\n",
       "    <tr>\n",
       "      <th>...</th>\n",
       "      <td>...</td>\n",
       "      <td>...</td>\n",
       "      <td>...</td>\n",
       "    </tr>\n",
       "    <tr>\n",
       "      <th>5565</th>\n",
       "      <td>ham</td>\n",
       "      <td>Huh y lei...</td>\n",
       "      <td>12</td>\n",
       "    </tr>\n",
       "    <tr>\n",
       "      <th>5568</th>\n",
       "      <td>ham</td>\n",
       "      <td>Will Ì_ b going to esplanade fr home?</td>\n",
       "      <td>37</td>\n",
       "    </tr>\n",
       "    <tr>\n",
       "      <th>5569</th>\n",
       "      <td>ham</td>\n",
       "      <td>Pity, * was in mood for that. So...any other s...</td>\n",
       "      <td>57</td>\n",
       "    </tr>\n",
       "    <tr>\n",
       "      <th>5570</th>\n",
       "      <td>ham</td>\n",
       "      <td>The guy did some bitching but I acted like i'd...</td>\n",
       "      <td>125</td>\n",
       "    </tr>\n",
       "    <tr>\n",
       "      <th>5571</th>\n",
       "      <td>ham</td>\n",
       "      <td>Rofl. Its true to its name</td>\n",
       "      <td>26</td>\n",
       "    </tr>\n",
       "  </tbody>\n",
       "</table>\n",
       "<p>4825 rows × 3 columns</p>\n",
       "</div>"
      ],
      "text/plain": [
       "     label                                            content  length\n",
       "0      ham  Go until jurong point, crazy.. Available only ...     111\n",
       "1      ham                      Ok lar... Joking wif u oni...      29\n",
       "3      ham  U dun say so early hor... U c already then say...      49\n",
       "4      ham  Nah I don't think he goes to usf, he lives aro...      61\n",
       "6      ham  Even my brother is not like to speak with me. ...      77\n",
       "...    ...                                                ...     ...\n",
       "5565   ham                                       Huh y lei...      12\n",
       "5568   ham              Will Ì_ b going to esplanade fr home?      37\n",
       "5569   ham  Pity, * was in mood for that. So...any other s...      57\n",
       "5570   ham  The guy did some bitching but I acted like i'd...     125\n",
       "5571   ham                         Rofl. Its true to its name      26\n",
       "\n",
       "[4825 rows x 3 columns]"
      ]
     },
     "execution_count": 7,
     "metadata": {},
     "output_type": "execute_result"
    }
   ],
   "source": [
    "data_rawSMS[data_rawSMS.label=='ham']"
   ]
  },
  {
   "cell_type": "code",
   "execution_count": 8,
   "metadata": {
    "execution": {
     "iopub.execute_input": "2021-02-02T08:00:22.447227Z",
     "iopub.status.busy": "2021-02-02T08:00:22.445327Z",
     "iopub.status.idle": "2021-02-02T08:00:23.971685Z",
     "shell.execute_reply": "2021-02-02T08:00:23.971134Z"
    },
    "papermill": {
     "duration": 1.559699,
     "end_time": "2021-02-02T08:00:23.971837",
     "exception": false,
     "start_time": "2021-02-02T08:00:22.412138",
     "status": "completed"
    },
    "tags": []
   },
   "outputs": [
    {
     "data": {
      "text/plain": [
       "Text(0.5, 0, 'Message Length')"
      ]
     },
     "execution_count": 8,
     "metadata": {},
     "output_type": "execute_result"
    },
    {
     "data": {
      "image/png": "[encoded data removed]",
      "text/plain": [
       "<Figure size 864x576 with 1 Axes>"
      ]
     },
     "metadata": {},
     "output_type": "display_data"
    }
   ],
   "source": [
    "import matplotlib.pyplot as plt\n",
    "import seaborn as sns\n",
    "\n",
    "%matplotlib inline\n",
    "sns.set_style(\"whitegrid\")\n",
    "plt.style.use('ggplot')\n",
    "\n",
    "plt.figure(figsize=(12,8))\n",
    "\n",
    "data_rawSMS[data_rawSMS.label=='ham'].length.plot(\n",
    "    bins=35, kind='hist', color='blue',\n",
    "    label='Ham messages', alpha=0.6)\n",
    "data_rawSMS[data_rawSMS.label=='spam'].length.plot(\n",
    "    kind='hist', color='red',\n",
    "    label='Spam messages', alpha=0.6)\n",
    "\n",
    "plt.legend()\n",
    "plt.xlabel(\"Message Length\")"
   ]
  },
  {
   "cell_type": "code",
   "execution_count": 9,
   "metadata": {
    "execution": {
     "iopub.execute_input": "2021-02-02T08:00:24.040535Z",
     "iopub.status.busy": "2021-02-02T08:00:24.039869Z",
     "iopub.status.idle": "2021-02-02T08:00:24.044157Z",
     "shell.execute_reply": "2021-02-02T08:00:24.043538Z"
    },
    "papermill": {
     "duration": 0.046487,
     "end_time": "2021-02-02T08:00:24.044299",
     "exception": false,
     "start_time": "2021-02-02T08:00:23.997812",
     "status": "completed"
    },
    "tags": []
   },
   "outputs": [
    {
     "data": {
      "text/html": [
       "<div>\n",
       "<style scoped>\n",
       "    .dataframe tbody tr th:only-of-type {\n",
       "        vertical-align: middle;\n",
       "    }\n",
       "\n",
       "    .dataframe tbody tr th {\n",
       "        vertical-align: top;\n",
       "    }\n",
       "\n",
       "    .dataframe thead th {\n",
       "        text-align: right;\n",
       "    }\n",
       "</style>\n",
       "<table border=\"1\" class=\"dataframe\">\n",
       "  <thead>\n",
       "    <tr style=\"text-align: right;\">\n",
       "      <th></th>\n",
       "      <th>length</th>\n",
       "    </tr>\n",
       "  </thead>\n",
       "  <tbody>\n",
       "    <tr>\n",
       "      <th>count</th>\n",
       "      <td>747.000000</td>\n",
       "    </tr>\n",
       "    <tr>\n",
       "      <th>mean</th>\n",
       "      <td>138.866131</td>\n",
       "    </tr>\n",
       "    <tr>\n",
       "      <th>std</th>\n",
       "      <td>29.183082</td>\n",
       "    </tr>\n",
       "    <tr>\n",
       "      <th>min</th>\n",
       "      <td>13.000000</td>\n",
       "    </tr>\n",
       "    <tr>\n",
       "      <th>25%</th>\n",
       "      <td>132.500000</td>\n",
       "    </tr>\n",
       "    <tr>\n",
       "      <th>50%</th>\n",
       "      <td>149.000000</td>\n",
       "    </tr>\n",
       "    <tr>\n",
       "      <th>75%</th>\n",
       "      <td>157.000000</td>\n",
       "    </tr>\n",
       "    <tr>\n",
       "      <th>max</th>\n",
       "      <td>224.000000</td>\n",
       "    </tr>\n",
       "  </tbody>\n",
       "</table>\n",
       "</div>"
      ],
      "text/plain": [
       "           length\n",
       "count  747.000000\n",
       "mean   138.866131\n",
       "std     29.183082\n",
       "min     13.000000\n",
       "25%    132.500000\n",
       "50%    149.000000\n",
       "75%    157.000000\n",
       "max    224.000000"
      ]
     },
     "execution_count": 9,
     "metadata": {},
     "output_type": "execute_result"
    }
   ],
   "source": [
    "#lab\n",
    "data_rawSMS[data_rawSMS.label=='spam'].describe()"
   ]
  },
  {
   "cell_type": "code",
   "execution_count": 10,
   "metadata": {
    "execution": {
     "iopub.execute_input": "2021-02-02T08:00:24.100981Z",
     "iopub.status.busy": "2021-02-02T08:00:24.100286Z",
     "iopub.status.idle": "2021-02-02T08:00:25.257059Z",
     "shell.execute_reply": "2021-02-02T08:00:25.256477Z"
    },
    "papermill": {
     "duration": 1.186088,
     "end_time": "2021-02-02T08:00:25.257201",
     "exception": false,
     "start_time": "2021-02-02T08:00:24.071113",
     "status": "completed"
    },
    "tags": []
   },
   "outputs": [
    {
     "name": "stdout",
     "output_type": "stream",
     "text": [
      "['i', 'me', 'my', 'myself', 'we', 'our', 'ours', 'ourselves', 'you', \"you're\", \"you've\", \"you'll\", \"you'd\", 'your', 'yours', 'yourself', 'yourselves', 'he', 'him', 'his', 'himself', 'she', \"she's\", 'her', 'hers', 'herself', 'it', \"it's\", 'its', 'itself', 'they', 'them', 'their', 'theirs', 'themselves', 'what', 'which', 'who', 'whom', 'this', 'that', \"that'll\", 'these', 'those', 'am', 'is', 'are', 'was', 'were', 'be', 'been', 'being', 'have', 'has', 'had', 'having', 'do', 'does', 'did', 'doing', 'a', 'an', 'the', 'and', 'but', 'if', 'or', 'because', 'as', 'until', 'while', 'of', 'at', 'by', 'for', 'with', 'about', 'against', 'between', 'into', 'through', 'during', 'before', 'after', 'above', 'below', 'to', 'from', 'up', 'down', 'in', 'out', 'on', 'off', 'over', 'under', 'again', 'further', 'then', 'once', 'here', 'there', 'when', 'where', 'why', 'how', 'all', 'any', 'both', 'each', 'few', 'more', 'most', 'other', 'some', 'such', 'no', 'nor', 'not', 'only', 'own', 'same', 'so', 'than', 'too', 'very', 's', 't', 'can', 'will', 'just', 'don', \"don't\", 'should', \"should've\", 'now', 'd', 'll', 'm', 'o', 're', 've', 'y', 'ain', 'aren', \"aren't\", 'couldn', \"couldn't\", 'didn', \"didn't\", 'doesn', \"doesn't\", 'hadn', \"hadn't\", 'hasn', \"hasn't\", 'haven', \"haven't\", 'isn', \"isn't\", 'ma', 'mightn', \"mightn't\", 'mustn', \"mustn't\", 'needn', \"needn't\", 'shan', \"shan't\", 'shouldn', \"shouldn't\", 'wasn', \"wasn't\", 'weren', \"weren't\", 'won', \"won't\", 'wouldn', \"wouldn't\"]\n"
     ]
    }
   ],
   "source": [
    "from nltk.corpus import stopwords\n",
    "print(stopwords.words('english'))"
   ]
  },
  {
   "cell_type": "code",
   "execution_count": 11,
   "metadata": {
    "execution": {
     "iopub.execute_input": "2021-02-02T08:00:25.324235Z",
     "iopub.status.busy": "2021-02-02T08:00:25.323443Z",
     "iopub.status.idle": "2021-02-02T08:00:25.328943Z",
     "shell.execute_reply": "2021-02-02T08:00:25.328093Z"
    },
    "papermill": {
     "duration": 0.04438,
     "end_time": "2021-02-02T08:00:25.329167",
     "exception": false,
     "start_time": "2021-02-02T08:00:25.284787",
     "status": "completed"
    },
    "tags": []
   },
   "outputs": [
    {
     "name": "stdout",
     "output_type": "stream",
     "text": [
      "!\"#$%&'()*+,-./:;<=>?@[\\]^_`{|}~\n"
     ]
    }
   ],
   "source": [
    "import string\n",
    "print(string.punctuation)"
   ]
  },
  {
   "cell_type": "code",
   "execution_count": 12,
   "metadata": {
    "execution": {
     "iopub.execute_input": "2021-02-02T08:00:25.393741Z",
     "iopub.status.busy": "2021-02-02T08:00:25.393065Z",
     "iopub.status.idle": "2021-02-02T08:00:26.382242Z",
     "shell.execute_reply": "2021-02-02T08:00:26.381715Z"
    },
    "papermill": {
     "duration": 1.024345,
     "end_time": "2021-02-02T08:00:26.382418",
     "exception": false,
     "start_time": "2021-02-02T08:00:25.358073",
     "status": "completed"
    },
    "tags": []
   },
   "outputs": [
    {
     "data": {
      "text/html": [
       "<div>\n",
       "<style scoped>\n",
       "    .dataframe tbody tr th:only-of-type {\n",
       "        vertical-align: middle;\n",
       "    }\n",
       "\n",
       "    .dataframe tbody tr th {\n",
       "        vertical-align: top;\n",
       "    }\n",
       "\n",
       "    .dataframe thead th {\n",
       "        text-align: right;\n",
       "    }\n",
       "</style>\n",
       "<table border=\"1\" class=\"dataframe\">\n",
       "  <thead>\n",
       "    <tr style=\"text-align: right;\">\n",
       "      <th></th>\n",
       "      <th>label</th>\n",
       "      <th>content</th>\n",
       "      <th>length</th>\n",
       "      <th>clean_msg</th>\n",
       "    </tr>\n",
       "  </thead>\n",
       "  <tbody>\n",
       "    <tr>\n",
       "      <th>0</th>\n",
       "      <td>ham</td>\n",
       "      <td>Go until jurong point, crazy.. Available only ...</td>\n",
       "      <td>111</td>\n",
       "      <td>go jurong point crazy available bugis n great ...</td>\n",
       "    </tr>\n",
       "    <tr>\n",
       "      <th>1</th>\n",
       "      <td>ham</td>\n",
       "      <td>Ok lar... Joking wif u oni...</td>\n",
       "      <td>29</td>\n",
       "      <td>ok lar joking wif oni</td>\n",
       "    </tr>\n",
       "    <tr>\n",
       "      <th>2</th>\n",
       "      <td>spam</td>\n",
       "      <td>Free entry in 2 a wkly comp to win FA Cup fina...</td>\n",
       "      <td>155</td>\n",
       "      <td>free entry wkly comp win fa cup final tkts 21s...</td>\n",
       "    </tr>\n",
       "    <tr>\n",
       "      <th>3</th>\n",
       "      <td>ham</td>\n",
       "      <td>U dun say so early hor... U c already then say...</td>\n",
       "      <td>49</td>\n",
       "      <td>dun say early hor c already say</td>\n",
       "    </tr>\n",
       "    <tr>\n",
       "      <th>4</th>\n",
       "      <td>ham</td>\n",
       "      <td>Nah I don't think he goes to usf, he lives aro...</td>\n",
       "      <td>61</td>\n",
       "      <td>nah think goes usf lives around though</td>\n",
       "    </tr>\n",
       "  </tbody>\n",
       "</table>\n",
       "</div>"
      ],
      "text/plain": [
       "  label                                            content  length  \\\n",
       "0   ham  Go until jurong point, crazy.. Available only ...     111   \n",
       "1   ham                      Ok lar... Joking wif u oni...      29   \n",
       "2  spam  Free entry in 2 a wkly comp to win FA Cup fina...     155   \n",
       "3   ham  U dun say so early hor... U c already then say...      49   \n",
       "4   ham  Nah I don't think he goes to usf, he lives aro...      61   \n",
       "\n",
       "                                           clean_msg  \n",
       "0  go jurong point crazy available bugis n great ...  \n",
       "1                              ok lar joking wif oni  \n",
       "2  free entry wkly comp win fa cup final tkts 21s...  \n",
       "3                    dun say early hor c already say  \n",
       "4             nah think goes usf lives around though  "
      ]
     },
     "execution_count": 12,
     "metadata": {},
     "output_type": "execute_result"
    }
   ],
   "source": [
    "def text_process(mess):\n",
    "    CustomStopwords = ['u', 'ur', '4', '2', 'im', 'dont', 'doin', 'ure']\n",
    "    STOPWORDS = stopwords.words('english')+ CustomStopwords\n",
    "    \n",
    "    nopunc = [char for char in mess if char not in string.punctuation]\n",
    "    nopunc = ''.join(nopunc)\n",
    "    \n",
    "    return ' '.join([word.lower() for word in nopunc.split() if word.lower() not in STOPWORDS])\n",
    "\n",
    "data_rawSMS['clean_msg'] = data_rawSMS.content.apply(text_process)\n",
    "data_rawSMS.head()"
   ]
  },
  {
   "cell_type": "code",
   "execution_count": 13,
   "metadata": {
    "execution": {
     "iopub.execute_input": "2021-02-02T08:00:26.454707Z",
     "iopub.status.busy": "2021-02-02T08:00:26.453743Z",
     "iopub.status.idle": "2021-02-02T08:00:26.458743Z",
     "shell.execute_reply": "2021-02-02T08:00:26.458105Z"
    },
    "papermill": {
     "duration": 0.048385,
     "end_time": "2021-02-02T08:00:26.458885",
     "exception": false,
     "start_time": "2021-02-02T08:00:26.410500",
     "status": "completed"
    },
    "tags": []
   },
   "outputs": [
    {
     "data": {
      "text/html": [
       "<div>\n",
       "<style scoped>\n",
       "    .dataframe tbody tr th:only-of-type {\n",
       "        vertical-align: middle;\n",
       "    }\n",
       "\n",
       "    .dataframe tbody tr th {\n",
       "        vertical-align: top;\n",
       "    }\n",
       "\n",
       "    .dataframe thead th {\n",
       "        text-align: right;\n",
       "    }\n",
       "</style>\n",
       "<table border=\"1\" class=\"dataframe\">\n",
       "  <thead>\n",
       "    <tr style=\"text-align: right;\">\n",
       "      <th></th>\n",
       "      <th>label</th>\n",
       "      <th>content</th>\n",
       "      <th>length</th>\n",
       "      <th>clean_msg</th>\n",
       "      <th>label_num</th>\n",
       "    </tr>\n",
       "  </thead>\n",
       "  <tbody>\n",
       "    <tr>\n",
       "      <th>0</th>\n",
       "      <td>ham</td>\n",
       "      <td>Go until jurong point, crazy.. Available only ...</td>\n",
       "      <td>111</td>\n",
       "      <td>go jurong point crazy available bugis n great ...</td>\n",
       "      <td>0</td>\n",
       "    </tr>\n",
       "    <tr>\n",
       "      <th>1</th>\n",
       "      <td>ham</td>\n",
       "      <td>Ok lar... Joking wif u oni...</td>\n",
       "      <td>29</td>\n",
       "      <td>ok lar joking wif oni</td>\n",
       "      <td>0</td>\n",
       "    </tr>\n",
       "    <tr>\n",
       "      <th>2</th>\n",
       "      <td>spam</td>\n",
       "      <td>Free entry in 2 a wkly comp to win FA Cup fina...</td>\n",
       "      <td>155</td>\n",
       "      <td>free entry wkly comp win fa cup final tkts 21s...</td>\n",
       "      <td>1</td>\n",
       "    </tr>\n",
       "    <tr>\n",
       "      <th>3</th>\n",
       "      <td>ham</td>\n",
       "      <td>U dun say so early hor... U c already then say...</td>\n",
       "      <td>49</td>\n",
       "      <td>dun say early hor c already say</td>\n",
       "      <td>0</td>\n",
       "    </tr>\n",
       "    <tr>\n",
       "      <th>4</th>\n",
       "      <td>ham</td>\n",
       "      <td>Nah I don't think he goes to usf, he lives aro...</td>\n",
       "      <td>61</td>\n",
       "      <td>nah think goes usf lives around though</td>\n",
       "      <td>0</td>\n",
       "    </tr>\n",
       "  </tbody>\n",
       "</table>\n",
       "</div>"
      ],
      "text/plain": [
       "  label                                            content  length  \\\n",
       "0   ham  Go until jurong point, crazy.. Available only ...     111   \n",
       "1   ham                      Ok lar... Joking wif u oni...      29   \n",
       "2  spam  Free entry in 2 a wkly comp to win FA Cup fina...     155   \n",
       "3   ham  U dun say so early hor... U c already then say...      49   \n",
       "4   ham  Nah I don't think he goes to usf, he lives aro...      61   \n",
       "\n",
       "                                           clean_msg  label_num  \n",
       "0  go jurong point crazy available bugis n great ...          0  \n",
       "1                              ok lar joking wif oni          0  \n",
       "2  free entry wkly comp win fa cup final tkts 21s...          1  \n",
       "3                    dun say early hor c already say          0  \n",
       "4             nah think goes usf lives around though          0  "
      ]
     },
     "execution_count": 13,
     "metadata": {},
     "output_type": "execute_result"
    }
   ],
   "source": [
    "#convert label to numerical variable\n",
    "data_rawSMS['label_num'] = data_rawSMS.label.map({'ham':0, 'spam':1})\n",
    "data_rawSMS.head()"
   ]
  },
  {
   "cell_type": "code",
   "execution_count": 14,
   "metadata": {
    "execution": {
     "iopub.execute_input": "2021-02-02T08:00:26.535770Z",
     "iopub.status.busy": "2021-02-02T08:00:26.530307Z",
     "iopub.status.idle": "2021-02-02T08:00:26.557042Z",
     "shell.execute_reply": "2021-02-02T08:00:26.555874Z"
    },
    "papermill": {
     "duration": 0.07022,
     "end_time": "2021-02-02T08:00:26.557341",
     "exception": false,
     "start_time": "2021-02-02T08:00:26.487121",
     "status": "completed"
    },
    "tags": []
   },
   "outputs": [
    {
     "name": "stdout",
     "output_type": "stream",
     "text": [
      "{'call': 576, 'get': 386, 'go': 278, 'ok': 277, 'ltgt': 276, 'free': 275, 'know': 257, 'like': 242, 'got': 238, 'ill': 237, 'good': 234, 'come': 226, 'time': 208, 'day': 202, 'love': 195, 'want': 192, 'send': 190, 'text': 188, 'going': 171, 'one': 170}\n"
     ]
    }
   ],
   "source": [
    "#Top 20 單字出現頻率(整體)\n",
    "from collections import Counter\n",
    "\n",
    "def get_words(content):\n",
    "    words = []\n",
    "    for row in content:\n",
    "        for j in row.split():\n",
    "            words.append(j.strip()) #strip->把前後空白刪掉\n",
    "    return words\n",
    "\n",
    "counter = Counter(get_words(data_rawSMS['clean_msg']))\n",
    "most_common = dict(counter.most_common(20))\n",
    "print(most_common)"
   ]
  },
  {
   "cell_type": "code",
   "execution_count": 15,
   "metadata": {
    "execution": {
     "iopub.execute_input": "2021-02-02T08:00:26.623138Z",
     "iopub.status.busy": "2021-02-02T08:00:26.622481Z",
     "iopub.status.idle": "2021-02-02T08:00:26.946731Z",
     "shell.execute_reply": "2021-02-02T08:00:26.947206Z"
    },
    "papermill": {
     "duration": 0.359557,
     "end_time": "2021-02-02T08:00:26.947411",
     "exception": false,
     "start_time": "2021-02-02T08:00:26.587854",
     "status": "completed"
    },
    "tags": []
   },
   "outputs": [
    {
     "data": {
      "text/plain": [
       "<AxesSubplot:>"
      ]
     },
     "execution_count": 15,
     "metadata": {},
     "output_type": "execute_result"
    },
    {
     "data": {
      "image/png": "[encoded data removed]",
      "text/plain": [
       "<Figure size 432x288 with 1 Axes>"
      ]
     },
     "metadata": {},
     "output_type": "display_data"
    }
   ],
   "source": [
    "#對 Top 20 單字出現頻率畫圖(整體)\n",
    "import seaborn as sns\n",
    "import matplotlib.pyplot as plt\n",
    "\n",
    "sns.barplot(x=list(most_common.values()),y=list(most_common.keys()))"
   ]
  },
  {
   "cell_type": "code",
   "execution_count": 16,
   "metadata": {
    "execution": {
     "iopub.execute_input": "2021-02-02T08:00:27.018599Z",
     "iopub.status.busy": "2021-02-02T08:00:27.017493Z",
     "iopub.status.idle": "2021-02-02T08:00:27.031476Z",
     "shell.execute_reply": "2021-02-02T08:00:27.030799Z"
    },
    "papermill": {
     "duration": 0.053158,
     "end_time": "2021-02-02T08:00:27.031621",
     "exception": false,
     "start_time": "2021-02-02T08:00:26.978463",
     "status": "completed"
    },
    "tags": []
   },
   "outputs": [
    {
     "name": "stdout",
     "output_type": "stream",
     "text": [
      "[('call', 347), ('free', 216), ('txt', 150), ('mobile', 123), ('text', 120), ('claim', 113), ('stop', 113), ('reply', 101), ('prize', 92), ('get', 83), ('new', 69), ('send', 67), ('nokia', 65), ('urgent', 63), ('cash', 62), ('win', 60), ('contact', 56), ('service', 55), ('please', 52), ('guaranteed', 50), ('customer', 49), ('16', 49), ('week', 49), ('tone', 48), ('per', 46), ('phone', 45), ('18', 43), ('chat', 42), ('awarded', 38), ('draw', 38), ('latest', 36), ('å£1000', 35), ('line', 35), ('150ppm', 34), ('mins', 34), ('receive', 33), ('camera', 33), ('1', 33), ('every', 33), ('message', 32), ('holiday', 32), ('landline', 32), ('shows', 31), ('å£2000', 31), ('go', 31), ('box', 30), ('number', 30), ('apply', 29), ('code', 29), ('live', 29)]\n"
     ]
    }
   ],
   "source": [
    "#Top 50 單字出現頻率(spam)\n",
    "from collections import Counter\n",
    "\n",
    "words = data_rawSMS[data_rawSMS.label=='spam'].clean_msg.apply(lambda x: [word for word in x.split()])\n",
    "spam_words = Counter()\n",
    "\n",
    "for msg in words:\n",
    "    spam_words.update(msg)\n",
    "    \n",
    "print(spam_words.most_common(50))"
   ]
  },
  {
   "cell_type": "code",
   "execution_count": 17,
   "metadata": {
    "execution": {
     "iopub.execute_input": "2021-02-02T08:00:27.100798Z",
     "iopub.status.busy": "2021-02-02T08:00:27.099997Z",
     "iopub.status.idle": "2021-02-02T08:00:27.105716Z",
     "shell.execute_reply": "2021-02-02T08:00:27.104900Z"
    },
    "papermill": {
     "duration": 0.043269,
     "end_time": "2021-02-02T08:00:27.105934",
     "exception": false,
     "start_time": "2021-02-02T08:00:27.062665",
     "status": "completed"
    },
    "tags": []
   },
   "outputs": [
    {
     "name": "stdout",
     "output_type": "stream",
     "text": [
      "clean_msg 的總比數：(5572,)\n",
      "label_num 的總比數：(5572,)\n"
     ]
    }
   ],
   "source": [
    "X = data_rawSMS.clean_msg\n",
    "y = data_rawSMS.label_num\n",
    "\n",
    "#shape -> 檔案的大小\n",
    "print('clean_msg 的總比數：{}'.format(X.shape))\n",
    "print('label_num 的總比數：{}'.format(y.shape))"
   ]
  },
  {
   "cell_type": "code",
   "execution_count": 18,
   "metadata": {
    "execution": {
     "iopub.execute_input": "2021-02-02T08:00:27.174450Z",
     "iopub.status.busy": "2021-02-02T08:00:27.173441Z",
     "iopub.status.idle": "2021-02-02T08:00:27.183908Z",
     "shell.execute_reply": "2021-02-02T08:00:27.184392Z"
    },
    "papermill": {
     "duration": 0.046029,
     "end_time": "2021-02-02T08:00:27.184579",
     "exception": false,
     "start_time": "2021-02-02T08:00:27.138550",
     "status": "completed"
    },
    "tags": []
   },
   "outputs": [
    {
     "data": {
      "text/plain": [
       "1114    0\n",
       "3589    0\n",
       "3095    0\n",
       "1012    0\n",
       "3320    0\n",
       "       ..\n",
       "4931    0\n",
       "3264    1\n",
       "1653    0\n",
       "2607    0\n",
       "2732    0\n",
       "Name: label_num, Length: 4457, dtype: int64"
      ]
     },
     "execution_count": 18,
     "metadata": {},
     "output_type": "execute_result"
    }
   ],
   "source": [
    "#拆分資料\n",
    "from sklearn.model_selection import train_test_split\n",
    "\n",
    "X_train, X_test, y_train, y_test = train_test_split(\n",
    "    X, y, random_state=0, train_size=0.8) # or test_size=0.2\n",
    "#random_state -> 固定切割資料的結果\n",
    "#train_size和test_size設定一邊即可，介於[0,1]之間\n",
    "\n",
    "#看拆分後結果，EX: y_train\n",
    "y_train"
   ]
  },
  {
   "cell_type": "code",
   "execution_count": 19,
   "metadata": {
    "execution": {
     "iopub.execute_input": "2021-02-02T08:00:27.254172Z",
     "iopub.status.busy": "2021-02-02T08:00:27.253105Z",
     "iopub.status.idle": "2021-02-02T08:00:27.350518Z",
     "shell.execute_reply": "2021-02-02T08:00:27.349923Z"
    },
    "papermill": {
     "duration": 0.13279,
     "end_time": "2021-02-02T08:00:27.350685",
     "exception": false,
     "start_time": "2021-02-02T08:00:27.217895",
     "status": "completed"
    },
    "tags": []
   },
   "outputs": [],
   "source": [
    "#將文字轉換為數值向量形式(計算TF -> 單詞在「單一文件」的出現頻率)\n",
    "from sklearn.feature_extraction.text import CountVectorizer\n",
    "\n",
    "vect = CountVectorizer()\n",
    "X_train_tf = vect.fit_transform(X_train)"
   ]
  },
  {
   "cell_type": "code",
   "execution_count": 20,
   "metadata": {
    "execution": {
     "iopub.execute_input": "2021-02-02T08:00:27.420684Z",
     "iopub.status.busy": "2021-02-02T08:00:27.419941Z",
     "iopub.status.idle": "2021-02-02T08:00:27.527571Z",
     "shell.execute_reply": "2021-02-02T08:00:27.526469Z"
    },
    "papermill": {
     "duration": 0.144476,
     "end_time": "2021-02-02T08:00:27.527748",
     "exception": false,
     "start_time": "2021-02-02T08:00:27.383272",
     "status": "completed"
    },
    "tags": []
   },
   "outputs": [
    {
     "data": {
      "text/html": [
       "<div>\n",
       "<style scoped>\n",
       "    .dataframe tbody tr th:only-of-type {\n",
       "        vertical-align: middle;\n",
       "    }\n",
       "\n",
       "    .dataframe tbody tr th {\n",
       "        vertical-align: top;\n",
       "    }\n",
       "\n",
       "    .dataframe thead th {\n",
       "        text-align: right;\n",
       "    }\n",
       "</style>\n",
       "<table border=\"1\" class=\"dataframe\">\n",
       "  <thead>\n",
       "    <tr style=\"text-align: right;\">\n",
       "      <th></th>\n",
       "      <th>008704050406</th>\n",
       "      <th>0089my</th>\n",
       "      <th>0121</th>\n",
       "      <th>01223585236</th>\n",
       "      <th>01223585334</th>\n",
       "      <th>0125698789</th>\n",
       "      <th>02</th>\n",
       "      <th>020603</th>\n",
       "      <th>0207</th>\n",
       "      <th>02072069400</th>\n",
       "      <th>...</th>\n",
       "      <th>åòits</th>\n",
       "      <th>åôrents</th>\n",
       "      <th>ìll</th>\n",
       "      <th>ìï</th>\n",
       "      <th>ìïll</th>\n",
       "      <th>ûthanks</th>\n",
       "      <th>ûï</th>\n",
       "      <th>ûïharry</th>\n",
       "      <th>ûò</th>\n",
       "      <th>ûówell</th>\n",
       "    </tr>\n",
       "  </thead>\n",
       "  <tbody>\n",
       "    <tr>\n",
       "      <th>0</th>\n",
       "      <td>0</td>\n",
       "      <td>0</td>\n",
       "      <td>0</td>\n",
       "      <td>0</td>\n",
       "      <td>0</td>\n",
       "      <td>0</td>\n",
       "      <td>0</td>\n",
       "      <td>0</td>\n",
       "      <td>0</td>\n",
       "      <td>0</td>\n",
       "      <td>...</td>\n",
       "      <td>0</td>\n",
       "      <td>0</td>\n",
       "      <td>0</td>\n",
       "      <td>0</td>\n",
       "      <td>0</td>\n",
       "      <td>0</td>\n",
       "      <td>0</td>\n",
       "      <td>0</td>\n",
       "      <td>0</td>\n",
       "      <td>0</td>\n",
       "    </tr>\n",
       "    <tr>\n",
       "      <th>1</th>\n",
       "      <td>0</td>\n",
       "      <td>0</td>\n",
       "      <td>0</td>\n",
       "      <td>0</td>\n",
       "      <td>0</td>\n",
       "      <td>0</td>\n",
       "      <td>0</td>\n",
       "      <td>0</td>\n",
       "      <td>0</td>\n",
       "      <td>0</td>\n",
       "      <td>...</td>\n",
       "      <td>0</td>\n",
       "      <td>0</td>\n",
       "      <td>0</td>\n",
       "      <td>0</td>\n",
       "      <td>0</td>\n",
       "      <td>0</td>\n",
       "      <td>0</td>\n",
       "      <td>0</td>\n",
       "      <td>0</td>\n",
       "      <td>0</td>\n",
       "    </tr>\n",
       "    <tr>\n",
       "      <th>2</th>\n",
       "      <td>0</td>\n",
       "      <td>0</td>\n",
       "      <td>0</td>\n",
       "      <td>0</td>\n",
       "      <td>0</td>\n",
       "      <td>0</td>\n",
       "      <td>0</td>\n",
       "      <td>0</td>\n",
       "      <td>0</td>\n",
       "      <td>0</td>\n",
       "      <td>...</td>\n",
       "      <td>0</td>\n",
       "      <td>0</td>\n",
       "      <td>0</td>\n",
       "      <td>0</td>\n",
       "      <td>0</td>\n",
       "      <td>0</td>\n",
       "      <td>0</td>\n",
       "      <td>0</td>\n",
       "      <td>0</td>\n",
       "      <td>0</td>\n",
       "    </tr>\n",
       "    <tr>\n",
       "      <th>3</th>\n",
       "      <td>0</td>\n",
       "      <td>0</td>\n",
       "      <td>0</td>\n",
       "      <td>0</td>\n",
       "      <td>0</td>\n",
       "      <td>0</td>\n",
       "      <td>0</td>\n",
       "      <td>0</td>\n",
       "      <td>0</td>\n",
       "      <td>0</td>\n",
       "      <td>...</td>\n",
       "      <td>0</td>\n",
       "      <td>0</td>\n",
       "      <td>0</td>\n",
       "      <td>1</td>\n",
       "      <td>0</td>\n",
       "      <td>0</td>\n",
       "      <td>0</td>\n",
       "      <td>0</td>\n",
       "      <td>0</td>\n",
       "      <td>0</td>\n",
       "    </tr>\n",
       "    <tr>\n",
       "      <th>4</th>\n",
       "      <td>0</td>\n",
       "      <td>0</td>\n",
       "      <td>0</td>\n",
       "      <td>0</td>\n",
       "      <td>0</td>\n",
       "      <td>0</td>\n",
       "      <td>0</td>\n",
       "      <td>0</td>\n",
       "      <td>0</td>\n",
       "      <td>0</td>\n",
       "      <td>...</td>\n",
       "      <td>0</td>\n",
       "      <td>0</td>\n",
       "      <td>0</td>\n",
       "      <td>0</td>\n",
       "      <td>0</td>\n",
       "      <td>0</td>\n",
       "      <td>0</td>\n",
       "      <td>0</td>\n",
       "      <td>0</td>\n",
       "      <td>0</td>\n",
       "    </tr>\n",
       "    <tr>\n",
       "      <th>...</th>\n",
       "      <td>...</td>\n",
       "      <td>...</td>\n",
       "      <td>...</td>\n",
       "      <td>...</td>\n",
       "      <td>...</td>\n",
       "      <td>...</td>\n",
       "      <td>...</td>\n",
       "      <td>...</td>\n",
       "      <td>...</td>\n",
       "      <td>...</td>\n",
       "      <td>...</td>\n",
       "      <td>...</td>\n",
       "      <td>...</td>\n",
       "      <td>...</td>\n",
       "      <td>...</td>\n",
       "      <td>...</td>\n",
       "      <td>...</td>\n",
       "      <td>...</td>\n",
       "      <td>...</td>\n",
       "      <td>...</td>\n",
       "      <td>...</td>\n",
       "    </tr>\n",
       "    <tr>\n",
       "      <th>4452</th>\n",
       "      <td>0</td>\n",
       "      <td>0</td>\n",
       "      <td>0</td>\n",
       "      <td>0</td>\n",
       "      <td>0</td>\n",
       "      <td>0</td>\n",
       "      <td>0</td>\n",
       "      <td>0</td>\n",
       "      <td>0</td>\n",
       "      <td>0</td>\n",
       "      <td>...</td>\n",
       "      <td>0</td>\n",
       "      <td>0</td>\n",
       "      <td>0</td>\n",
       "      <td>0</td>\n",
       "      <td>0</td>\n",
       "      <td>0</td>\n",
       "      <td>0</td>\n",
       "      <td>0</td>\n",
       "      <td>0</td>\n",
       "      <td>0</td>\n",
       "    </tr>\n",
       "    <tr>\n",
       "      <th>4453</th>\n",
       "      <td>0</td>\n",
       "      <td>0</td>\n",
       "      <td>0</td>\n",
       "      <td>0</td>\n",
       "      <td>0</td>\n",
       "      <td>0</td>\n",
       "      <td>0</td>\n",
       "      <td>0</td>\n",
       "      <td>0</td>\n",
       "      <td>0</td>\n",
       "      <td>...</td>\n",
       "      <td>0</td>\n",
       "      <td>0</td>\n",
       "      <td>0</td>\n",
       "      <td>0</td>\n",
       "      <td>0</td>\n",
       "      <td>0</td>\n",
       "      <td>0</td>\n",
       "      <td>0</td>\n",
       "      <td>0</td>\n",
       "      <td>0</td>\n",
       "    </tr>\n",
       "    <tr>\n",
       "      <th>4454</th>\n",
       "      <td>0</td>\n",
       "      <td>0</td>\n",
       "      <td>0</td>\n",
       "      <td>0</td>\n",
       "      <td>0</td>\n",
       "      <td>0</td>\n",
       "      <td>0</td>\n",
       "      <td>0</td>\n",
       "      <td>0</td>\n",
       "      <td>0</td>\n",
       "      <td>...</td>\n",
       "      <td>0</td>\n",
       "      <td>0</td>\n",
       "      <td>0</td>\n",
       "      <td>1</td>\n",
       "      <td>0</td>\n",
       "      <td>0</td>\n",
       "      <td>0</td>\n",
       "      <td>0</td>\n",
       "      <td>0</td>\n",
       "      <td>0</td>\n",
       "    </tr>\n",
       "    <tr>\n",
       "      <th>4455</th>\n",
       "      <td>0</td>\n",
       "      <td>0</td>\n",
       "      <td>0</td>\n",
       "      <td>0</td>\n",
       "      <td>0</td>\n",
       "      <td>0</td>\n",
       "      <td>0</td>\n",
       "      <td>0</td>\n",
       "      <td>0</td>\n",
       "      <td>0</td>\n",
       "      <td>...</td>\n",
       "      <td>0</td>\n",
       "      <td>0</td>\n",
       "      <td>0</td>\n",
       "      <td>0</td>\n",
       "      <td>0</td>\n",
       "      <td>0</td>\n",
       "      <td>0</td>\n",
       "      <td>0</td>\n",
       "      <td>0</td>\n",
       "      <td>0</td>\n",
       "    </tr>\n",
       "    <tr>\n",
       "      <th>4456</th>\n",
       "      <td>0</td>\n",
       "      <td>0</td>\n",
       "      <td>0</td>\n",
       "      <td>0</td>\n",
       "      <td>0</td>\n",
       "      <td>0</td>\n",
       "      <td>0</td>\n",
       "      <td>0</td>\n",
       "      <td>0</td>\n",
       "      <td>0</td>\n",
       "      <td>...</td>\n",
       "      <td>0</td>\n",
       "      <td>0</td>\n",
       "      <td>0</td>\n",
       "      <td>0</td>\n",
       "      <td>0</td>\n",
       "      <td>0</td>\n",
       "      <td>0</td>\n",
       "      <td>0</td>\n",
       "      <td>0</td>\n",
       "      <td>0</td>\n",
       "    </tr>\n",
       "  </tbody>\n",
       "</table>\n",
       "<p>4457 rows × 8154 columns</p>\n",
       "</div>"
      ],
      "text/plain": [
       "      008704050406  0089my  0121  01223585236  01223585334  0125698789  02  \\\n",
       "0                0       0     0            0            0           0   0   \n",
       "1                0       0     0            0            0           0   0   \n",
       "2                0       0     0            0            0           0   0   \n",
       "3                0       0     0            0            0           0   0   \n",
       "4                0       0     0            0            0           0   0   \n",
       "...            ...     ...   ...          ...          ...         ...  ..   \n",
       "4452             0       0     0            0            0           0   0   \n",
       "4453             0       0     0            0            0           0   0   \n",
       "4454             0       0     0            0            0           0   0   \n",
       "4455             0       0     0            0            0           0   0   \n",
       "4456             0       0     0            0            0           0   0   \n",
       "\n",
       "      020603  0207  02072069400  ...  åòits  åôrents  ìll  ìï  ìïll  ûthanks  \\\n",
       "0          0     0            0  ...      0        0    0   0     0        0   \n",
       "1          0     0            0  ...      0        0    0   0     0        0   \n",
       "2          0     0            0  ...      0        0    0   0     0        0   \n",
       "3          0     0            0  ...      0        0    0   1     0        0   \n",
       "4          0     0            0  ...      0        0    0   0     0        0   \n",
       "...      ...   ...          ...  ...    ...      ...  ...  ..   ...      ...   \n",
       "4452       0     0            0  ...      0        0    0   0     0        0   \n",
       "4453       0     0            0  ...      0        0    0   0     0        0   \n",
       "4454       0     0            0  ...      0        0    0   1     0        0   \n",
       "4455       0     0            0  ...      0        0    0   0     0        0   \n",
       "4456       0     0            0  ...      0        0    0   0     0        0   \n",
       "\n",
       "      ûï  ûïharry  ûò  ûówell  \n",
       "0      0        0   0       0  \n",
       "1      0        0   0       0  \n",
       "2      0        0   0       0  \n",
       "3      0        0   0       0  \n",
       "4      0        0   0       0  \n",
       "...   ..      ...  ..     ...  \n",
       "4452   0        0   0       0  \n",
       "4453   0        0   0       0  \n",
       "4454   0        0   0       0  \n",
       "4455   0        0   0       0  \n",
       "4456   0        0   0       0  \n",
       "\n",
       "[4457 rows x 8154 columns]"
      ]
     },
     "execution_count": 20,
     "metadata": {},
     "output_type": "execute_result"
    }
   ],
   "source": [
    "pd.DataFrame(X_train_tf.toarray(), columns = vect.get_feature_names())\n",
    "#大部分都是0的矩陣稱為「稀疏矩陣」，容易被計算"
   ]
  },
  {
   "cell_type": "code",
   "execution_count": 21,
   "metadata": {
    "execution": {
     "iopub.execute_input": "2021-02-02T08:00:27.599649Z",
     "iopub.status.busy": "2021-02-02T08:00:27.598998Z",
     "iopub.status.idle": "2021-02-02T08:00:27.611644Z",
     "shell.execute_reply": "2021-02-02T08:00:27.612181Z"
    },
    "papermill": {
     "duration": 0.051696,
     "end_time": "2021-02-02T08:00:27.612377",
     "exception": false,
     "start_time": "2021-02-02T08:00:27.560681",
     "status": "completed"
    },
    "tags": []
   },
   "outputs": [],
   "source": [
    "#將文字轉換為數值向量形式(計算TF-IDF -> 單詞在「單一文件」和「所有文件」的出現頻率)\n",
    "from sklearn.feature_extraction.text import TfidfTransformer\n",
    "\n",
    "tfidf_transformer = TfidfTransformer()\n",
    "tfidf_transformer.fit(X_train_tf)\n",
    "X_train_tfidf = tfidf_transformer.transform(X_train_tf)"
   ]
  },
  {
   "cell_type": "code",
   "execution_count": 22,
   "metadata": {
    "execution": {
     "iopub.execute_input": "2021-02-02T08:00:27.690194Z",
     "iopub.status.busy": "2021-02-02T08:00:27.684734Z",
     "iopub.status.idle": "2021-02-02T08:00:28.332029Z",
     "shell.execute_reply": "2021-02-02T08:00:28.331289Z"
    },
    "papermill": {
     "duration": 0.686428,
     "end_time": "2021-02-02T08:00:28.332193",
     "exception": false,
     "start_time": "2021-02-02T08:00:27.645765",
     "status": "completed"
    },
    "tags": []
   },
   "outputs": [
    {
     "data": {
      "text/html": [
       "<div>\n",
       "<style scoped>\n",
       "    .dataframe tbody tr th:only-of-type {\n",
       "        vertical-align: middle;\n",
       "    }\n",
       "\n",
       "    .dataframe tbody tr th {\n",
       "        vertical-align: top;\n",
       "    }\n",
       "\n",
       "    .dataframe thead th {\n",
       "        text-align: right;\n",
       "    }\n",
       "</style>\n",
       "<table border=\"1\" class=\"dataframe\">\n",
       "  <thead>\n",
       "    <tr style=\"text-align: right;\">\n",
       "      <th></th>\n",
       "      <th>008704050406</th>\n",
       "      <th>0089my</th>\n",
       "      <th>0121</th>\n",
       "      <th>01223585236</th>\n",
       "      <th>01223585334</th>\n",
       "      <th>0125698789</th>\n",
       "      <th>02</th>\n",
       "      <th>020603</th>\n",
       "      <th>0207</th>\n",
       "      <th>02072069400</th>\n",
       "      <th>...</th>\n",
       "      <th>åòits</th>\n",
       "      <th>åôrents</th>\n",
       "      <th>ìll</th>\n",
       "      <th>ìï</th>\n",
       "      <th>ìïll</th>\n",
       "      <th>ûthanks</th>\n",
       "      <th>ûï</th>\n",
       "      <th>ûïharry</th>\n",
       "      <th>ûò</th>\n",
       "      <th>ûówell</th>\n",
       "    </tr>\n",
       "  </thead>\n",
       "  <tbody>\n",
       "    <tr>\n",
       "      <th>0</th>\n",
       "      <td>8.3038</td>\n",
       "      <td>8.7093</td>\n",
       "      <td>8.7093</td>\n",
       "      <td>8.7093</td>\n",
       "      <td>8.3038</td>\n",
       "      <td>8.7093</td>\n",
       "      <td>8.7093</td>\n",
       "      <td>7.7930</td>\n",
       "      <td>8.3038</td>\n",
       "      <td>8.7093</td>\n",
       "      <td>...</td>\n",
       "      <td>8.7093</td>\n",
       "      <td>8.7093</td>\n",
       "      <td>8.7093</td>\n",
       "      <td>5.7915</td>\n",
       "      <td>8.7093</td>\n",
       "      <td>8.7093</td>\n",
       "      <td>8.7093</td>\n",
       "      <td>8.7093</td>\n",
       "      <td>7.6107</td>\n",
       "      <td>8.7093</td>\n",
       "    </tr>\n",
       "  </tbody>\n",
       "</table>\n",
       "<p>1 rows × 8154 columns</p>\n",
       "</div>"
      ],
      "text/plain": [
       "   008704050406  0089my   0121  01223585236  01223585334  0125698789     02  \\\n",
       "0        8.3038  8.7093 8.7093       8.7093       8.3038      8.7093 8.7093   \n",
       "\n",
       "   020603   0207  02072069400  ...  åòits  åôrents    ìll     ìï   ìïll  \\\n",
       "0  7.7930 8.3038       8.7093  ... 8.7093   8.7093 8.7093 5.7915 8.7093   \n",
       "\n",
       "   ûthanks     ûï  ûïharry     ûò  ûówell  \n",
       "0   8.7093 8.7093   8.7093 7.6107  8.7093  \n",
       "\n",
       "[1 rows x 8154 columns]"
      ]
     },
     "execution_count": 22,
     "metadata": {},
     "output_type": "execute_result"
    }
   ],
   "source": [
    "pd.options.display.float_format = \"{:,.4f}\".format #小數點後四位\n",
    "\n",
    "#看每個字的IDF值\n",
    "pd.DataFrame([tfidf_transformer.idf_], columns=vect.get_feature_names())"
   ]
  },
  {
   "cell_type": "code",
   "execution_count": 23,
   "metadata": {
    "execution": {
     "iopub.execute_input": "2021-02-02T08:00:28.407198Z",
     "iopub.status.busy": "2021-02-02T08:00:28.406267Z",
     "iopub.status.idle": "2021-02-02T08:00:28.590705Z",
     "shell.execute_reply": "2021-02-02T08:00:28.590007Z"
    },
    "papermill": {
     "duration": 0.224326,
     "end_time": "2021-02-02T08:00:28.590863",
     "exception": false,
     "start_time": "2021-02-02T08:00:28.366537",
     "status": "completed"
    },
    "tags": []
   },
   "outputs": [
    {
     "data": {
      "text/html": [
       "<div>\n",
       "<style scoped>\n",
       "    .dataframe tbody tr th:only-of-type {\n",
       "        vertical-align: middle;\n",
       "    }\n",
       "\n",
       "    .dataframe tbody tr th {\n",
       "        vertical-align: top;\n",
       "    }\n",
       "\n",
       "    .dataframe thead th {\n",
       "        text-align: right;\n",
       "    }\n",
       "</style>\n",
       "<table border=\"1\" class=\"dataframe\">\n",
       "  <thead>\n",
       "    <tr style=\"text-align: right;\">\n",
       "      <th></th>\n",
       "      <th>008704050406</th>\n",
       "      <th>0089my</th>\n",
       "      <th>0121</th>\n",
       "      <th>01223585236</th>\n",
       "      <th>01223585334</th>\n",
       "      <th>0125698789</th>\n",
       "      <th>02</th>\n",
       "      <th>020603</th>\n",
       "      <th>0207</th>\n",
       "      <th>02072069400</th>\n",
       "      <th>...</th>\n",
       "      <th>åòits</th>\n",
       "      <th>åôrents</th>\n",
       "      <th>ìll</th>\n",
       "      <th>ìï</th>\n",
       "      <th>ìïll</th>\n",
       "      <th>ûthanks</th>\n",
       "      <th>ûï</th>\n",
       "      <th>ûïharry</th>\n",
       "      <th>ûò</th>\n",
       "      <th>ûówell</th>\n",
       "    </tr>\n",
       "  </thead>\n",
       "  <tbody>\n",
       "    <tr>\n",
       "      <th>0</th>\n",
       "      <td>0.0000000000</td>\n",
       "      <td>0.0000000000</td>\n",
       "      <td>0.0000000000</td>\n",
       "      <td>0.0000000000</td>\n",
       "      <td>0.0000000000</td>\n",
       "      <td>0.0000000000</td>\n",
       "      <td>0.0000000000</td>\n",
       "      <td>0.0000000000</td>\n",
       "      <td>0.0000000000</td>\n",
       "      <td>0.0000000000</td>\n",
       "      <td>...</td>\n",
       "      <td>0.0000000000</td>\n",
       "      <td>0.0000000000</td>\n",
       "      <td>0.0000000000</td>\n",
       "      <td>0.0000000000</td>\n",
       "      <td>0.0000000000</td>\n",
       "      <td>0.0000000000</td>\n",
       "      <td>0.0000000000</td>\n",
       "      <td>0.0000000000</td>\n",
       "      <td>0.0000000000</td>\n",
       "      <td>0.0000000000</td>\n",
       "    </tr>\n",
       "    <tr>\n",
       "      <th>1</th>\n",
       "      <td>0.0000000000</td>\n",
       "      <td>0.0000000000</td>\n",
       "      <td>0.0000000000</td>\n",
       "      <td>0.0000000000</td>\n",
       "      <td>0.0000000000</td>\n",
       "      <td>0.0000000000</td>\n",
       "      <td>0.0000000000</td>\n",
       "      <td>0.0000000000</td>\n",
       "      <td>0.0000000000</td>\n",
       "      <td>0.0000000000</td>\n",
       "      <td>...</td>\n",
       "      <td>0.0000000000</td>\n",
       "      <td>0.0000000000</td>\n",
       "      <td>0.0000000000</td>\n",
       "      <td>0.0000000000</td>\n",
       "      <td>0.0000000000</td>\n",
       "      <td>0.0000000000</td>\n",
       "      <td>0.0000000000</td>\n",
       "      <td>0.0000000000</td>\n",
       "      <td>0.0000000000</td>\n",
       "      <td>0.0000000000</td>\n",
       "    </tr>\n",
       "    <tr>\n",
       "      <th>2</th>\n",
       "      <td>0.0000000000</td>\n",
       "      <td>0.0000000000</td>\n",
       "      <td>0.0000000000</td>\n",
       "      <td>0.0000000000</td>\n",
       "      <td>0.0000000000</td>\n",
       "      <td>0.0000000000</td>\n",
       "      <td>0.0000000000</td>\n",
       "      <td>0.0000000000</td>\n",
       "      <td>0.0000000000</td>\n",
       "      <td>0.0000000000</td>\n",
       "      <td>...</td>\n",
       "      <td>0.0000000000</td>\n",
       "      <td>0.0000000000</td>\n",
       "      <td>0.0000000000</td>\n",
       "      <td>0.0000000000</td>\n",
       "      <td>0.0000000000</td>\n",
       "      <td>0.0000000000</td>\n",
       "      <td>0.0000000000</td>\n",
       "      <td>0.0000000000</td>\n",
       "      <td>0.0000000000</td>\n",
       "      <td>0.0000000000</td>\n",
       "    </tr>\n",
       "    <tr>\n",
       "      <th>3</th>\n",
       "      <td>0.0000000000</td>\n",
       "      <td>0.0000000000</td>\n",
       "      <td>0.0000000000</td>\n",
       "      <td>0.0000000000</td>\n",
       "      <td>0.0000000000</td>\n",
       "      <td>0.0000000000</td>\n",
       "      <td>0.0000000000</td>\n",
       "      <td>0.0000000000</td>\n",
       "      <td>0.0000000000</td>\n",
       "      <td>0.0000000000</td>\n",
       "      <td>...</td>\n",
       "      <td>0.0000000000</td>\n",
       "      <td>0.0000000000</td>\n",
       "      <td>0.0000000000</td>\n",
       "      <td>0.3839798817</td>\n",
       "      <td>0.0000000000</td>\n",
       "      <td>0.0000000000</td>\n",
       "      <td>0.0000000000</td>\n",
       "      <td>0.0000000000</td>\n",
       "      <td>0.0000000000</td>\n",
       "      <td>0.0000000000</td>\n",
       "    </tr>\n",
       "    <tr>\n",
       "      <th>4</th>\n",
       "      <td>0.0000000000</td>\n",
       "      <td>0.0000000000</td>\n",
       "      <td>0.0000000000</td>\n",
       "      <td>0.0000000000</td>\n",
       "      <td>0.0000000000</td>\n",
       "      <td>0.0000000000</td>\n",
       "      <td>0.0000000000</td>\n",
       "      <td>0.0000000000</td>\n",
       "      <td>0.0000000000</td>\n",
       "      <td>0.0000000000</td>\n",
       "      <td>...</td>\n",
       "      <td>0.0000000000</td>\n",
       "      <td>0.0000000000</td>\n",
       "      <td>0.0000000000</td>\n",
       "      <td>0.0000000000</td>\n",
       "      <td>0.0000000000</td>\n",
       "      <td>0.0000000000</td>\n",
       "      <td>0.0000000000</td>\n",
       "      <td>0.0000000000</td>\n",
       "      <td>0.0000000000</td>\n",
       "      <td>0.0000000000</td>\n",
       "    </tr>\n",
       "    <tr>\n",
       "      <th>...</th>\n",
       "      <td>...</td>\n",
       "      <td>...</td>\n",
       "      <td>...</td>\n",
       "      <td>...</td>\n",
       "      <td>...</td>\n",
       "      <td>...</td>\n",
       "      <td>...</td>\n",
       "      <td>...</td>\n",
       "      <td>...</td>\n",
       "      <td>...</td>\n",
       "      <td>...</td>\n",
       "      <td>...</td>\n",
       "      <td>...</td>\n",
       "      <td>...</td>\n",
       "      <td>...</td>\n",
       "      <td>...</td>\n",
       "      <td>...</td>\n",
       "      <td>...</td>\n",
       "      <td>...</td>\n",
       "      <td>...</td>\n",
       "      <td>...</td>\n",
       "    </tr>\n",
       "    <tr>\n",
       "      <th>4452</th>\n",
       "      <td>0.0000000000</td>\n",
       "      <td>0.0000000000</td>\n",
       "      <td>0.0000000000</td>\n",
       "      <td>0.0000000000</td>\n",
       "      <td>0.0000000000</td>\n",
       "      <td>0.0000000000</td>\n",
       "      <td>0.0000000000</td>\n",
       "      <td>0.0000000000</td>\n",
       "      <td>0.0000000000</td>\n",
       "      <td>0.0000000000</td>\n",
       "      <td>...</td>\n",
       "      <td>0.0000000000</td>\n",
       "      <td>0.0000000000</td>\n",
       "      <td>0.0000000000</td>\n",
       "      <td>0.0000000000</td>\n",
       "      <td>0.0000000000</td>\n",
       "      <td>0.0000000000</td>\n",
       "      <td>0.0000000000</td>\n",
       "      <td>0.0000000000</td>\n",
       "      <td>0.0000000000</td>\n",
       "      <td>0.0000000000</td>\n",
       "    </tr>\n",
       "    <tr>\n",
       "      <th>4453</th>\n",
       "      <td>0.0000000000</td>\n",
       "      <td>0.0000000000</td>\n",
       "      <td>0.0000000000</td>\n",
       "      <td>0.0000000000</td>\n",
       "      <td>0.0000000000</td>\n",
       "      <td>0.0000000000</td>\n",
       "      <td>0.0000000000</td>\n",
       "      <td>0.0000000000</td>\n",
       "      <td>0.0000000000</td>\n",
       "      <td>0.0000000000</td>\n",
       "      <td>...</td>\n",
       "      <td>0.0000000000</td>\n",
       "      <td>0.0000000000</td>\n",
       "      <td>0.0000000000</td>\n",
       "      <td>0.0000000000</td>\n",
       "      <td>0.0000000000</td>\n",
       "      <td>0.0000000000</td>\n",
       "      <td>0.0000000000</td>\n",
       "      <td>0.0000000000</td>\n",
       "      <td>0.0000000000</td>\n",
       "      <td>0.0000000000</td>\n",
       "    </tr>\n",
       "    <tr>\n",
       "      <th>4454</th>\n",
       "      <td>0.0000000000</td>\n",
       "      <td>0.0000000000</td>\n",
       "      <td>0.0000000000</td>\n",
       "      <td>0.0000000000</td>\n",
       "      <td>0.0000000000</td>\n",
       "      <td>0.0000000000</td>\n",
       "      <td>0.0000000000</td>\n",
       "      <td>0.0000000000</td>\n",
       "      <td>0.0000000000</td>\n",
       "      <td>0.0000000000</td>\n",
       "      <td>...</td>\n",
       "      <td>0.0000000000</td>\n",
       "      <td>0.0000000000</td>\n",
       "      <td>0.0000000000</td>\n",
       "      <td>0.2362246265</td>\n",
       "      <td>0.0000000000</td>\n",
       "      <td>0.0000000000</td>\n",
       "      <td>0.0000000000</td>\n",
       "      <td>0.0000000000</td>\n",
       "      <td>0.0000000000</td>\n",
       "      <td>0.0000000000</td>\n",
       "    </tr>\n",
       "    <tr>\n",
       "      <th>4455</th>\n",
       "      <td>0.0000000000</td>\n",
       "      <td>0.0000000000</td>\n",
       "      <td>0.0000000000</td>\n",
       "      <td>0.0000000000</td>\n",
       "      <td>0.0000000000</td>\n",
       "      <td>0.0000000000</td>\n",
       "      <td>0.0000000000</td>\n",
       "      <td>0.0000000000</td>\n",
       "      <td>0.0000000000</td>\n",
       "      <td>0.0000000000</td>\n",
       "      <td>...</td>\n",
       "      <td>0.0000000000</td>\n",
       "      <td>0.0000000000</td>\n",
       "      <td>0.0000000000</td>\n",
       "      <td>0.0000000000</td>\n",
       "      <td>0.0000000000</td>\n",
       "      <td>0.0000000000</td>\n",
       "      <td>0.0000000000</td>\n",
       "      <td>0.0000000000</td>\n",
       "      <td>0.0000000000</td>\n",
       "      <td>0.0000000000</td>\n",
       "    </tr>\n",
       "    <tr>\n",
       "      <th>4456</th>\n",
       "      <td>0.0000000000</td>\n",
       "      <td>0.0000000000</td>\n",
       "      <td>0.0000000000</td>\n",
       "      <td>0.0000000000</td>\n",
       "      <td>0.0000000000</td>\n",
       "      <td>0.0000000000</td>\n",
       "      <td>0.0000000000</td>\n",
       "      <td>0.0000000000</td>\n",
       "      <td>0.0000000000</td>\n",
       "      <td>0.0000000000</td>\n",
       "      <td>...</td>\n",
       "      <td>0.0000000000</td>\n",
       "      <td>0.0000000000</td>\n",
       "      <td>0.0000000000</td>\n",
       "      <td>0.0000000000</td>\n",
       "      <td>0.0000000000</td>\n",
       "      <td>0.0000000000</td>\n",
       "      <td>0.0000000000</td>\n",
       "      <td>0.0000000000</td>\n",
       "      <td>0.0000000000</td>\n",
       "      <td>0.0000000000</td>\n",
       "    </tr>\n",
       "  </tbody>\n",
       "</table>\n",
       "<p>4457 rows × 8154 columns</p>\n",
       "</div>"
      ],
      "text/plain": [
       "      008704050406       0089my         0121  01223585236  01223585334  \\\n",
       "0     0.0000000000 0.0000000000 0.0000000000 0.0000000000 0.0000000000   \n",
       "1     0.0000000000 0.0000000000 0.0000000000 0.0000000000 0.0000000000   \n",
       "2     0.0000000000 0.0000000000 0.0000000000 0.0000000000 0.0000000000   \n",
       "3     0.0000000000 0.0000000000 0.0000000000 0.0000000000 0.0000000000   \n",
       "4     0.0000000000 0.0000000000 0.0000000000 0.0000000000 0.0000000000   \n",
       "...            ...          ...          ...          ...          ...   \n",
       "4452  0.0000000000 0.0000000000 0.0000000000 0.0000000000 0.0000000000   \n",
       "4453  0.0000000000 0.0000000000 0.0000000000 0.0000000000 0.0000000000   \n",
       "4454  0.0000000000 0.0000000000 0.0000000000 0.0000000000 0.0000000000   \n",
       "4455  0.0000000000 0.0000000000 0.0000000000 0.0000000000 0.0000000000   \n",
       "4456  0.0000000000 0.0000000000 0.0000000000 0.0000000000 0.0000000000   \n",
       "\n",
       "       0125698789           02       020603         0207  02072069400  ...  \\\n",
       "0    0.0000000000 0.0000000000 0.0000000000 0.0000000000 0.0000000000  ...   \n",
       "1    0.0000000000 0.0000000000 0.0000000000 0.0000000000 0.0000000000  ...   \n",
       "2    0.0000000000 0.0000000000 0.0000000000 0.0000000000 0.0000000000  ...   \n",
       "3    0.0000000000 0.0000000000 0.0000000000 0.0000000000 0.0000000000  ...   \n",
       "4    0.0000000000 0.0000000000 0.0000000000 0.0000000000 0.0000000000  ...   \n",
       "...           ...          ...          ...          ...          ...  ...   \n",
       "4452 0.0000000000 0.0000000000 0.0000000000 0.0000000000 0.0000000000  ...   \n",
       "4453 0.0000000000 0.0000000000 0.0000000000 0.0000000000 0.0000000000  ...   \n",
       "4454 0.0000000000 0.0000000000 0.0000000000 0.0000000000 0.0000000000  ...   \n",
       "4455 0.0000000000 0.0000000000 0.0000000000 0.0000000000 0.0000000000  ...   \n",
       "4456 0.0000000000 0.0000000000 0.0000000000 0.0000000000 0.0000000000  ...   \n",
       "\n",
       "            åòits      åôrents          ìll           ìï         ìïll  \\\n",
       "0    0.0000000000 0.0000000000 0.0000000000 0.0000000000 0.0000000000   \n",
       "1    0.0000000000 0.0000000000 0.0000000000 0.0000000000 0.0000000000   \n",
       "2    0.0000000000 0.0000000000 0.0000000000 0.0000000000 0.0000000000   \n",
       "3    0.0000000000 0.0000000000 0.0000000000 0.3839798817 0.0000000000   \n",
       "4    0.0000000000 0.0000000000 0.0000000000 0.0000000000 0.0000000000   \n",
       "...           ...          ...          ...          ...          ...   \n",
       "4452 0.0000000000 0.0000000000 0.0000000000 0.0000000000 0.0000000000   \n",
       "4453 0.0000000000 0.0000000000 0.0000000000 0.0000000000 0.0000000000   \n",
       "4454 0.0000000000 0.0000000000 0.0000000000 0.2362246265 0.0000000000   \n",
       "4455 0.0000000000 0.0000000000 0.0000000000 0.0000000000 0.0000000000   \n",
       "4456 0.0000000000 0.0000000000 0.0000000000 0.0000000000 0.0000000000   \n",
       "\n",
       "          ûthanks           ûï      ûïharry           ûò       ûówell  \n",
       "0    0.0000000000 0.0000000000 0.0000000000 0.0000000000 0.0000000000  \n",
       "1    0.0000000000 0.0000000000 0.0000000000 0.0000000000 0.0000000000  \n",
       "2    0.0000000000 0.0000000000 0.0000000000 0.0000000000 0.0000000000  \n",
       "3    0.0000000000 0.0000000000 0.0000000000 0.0000000000 0.0000000000  \n",
       "4    0.0000000000 0.0000000000 0.0000000000 0.0000000000 0.0000000000  \n",
       "...           ...          ...          ...          ...          ...  \n",
       "4452 0.0000000000 0.0000000000 0.0000000000 0.0000000000 0.0000000000  \n",
       "4453 0.0000000000 0.0000000000 0.0000000000 0.0000000000 0.0000000000  \n",
       "4454 0.0000000000 0.0000000000 0.0000000000 0.0000000000 0.0000000000  \n",
       "4455 0.0000000000 0.0000000000 0.0000000000 0.0000000000 0.0000000000  \n",
       "4456 0.0000000000 0.0000000000 0.0000000000 0.0000000000 0.0000000000  \n",
       "\n",
       "[4457 rows x 8154 columns]"
      ]
     },
     "execution_count": 23,
     "metadata": {},
     "output_type": "execute_result"
    }
   ],
   "source": [
    "pd.options.display.float_format = \"{:,.10f}\".format\n",
    "\n",
    "#看TF-IDF值\n",
    "pd.DataFrame(X_train_tfidf.toarray(), columns = vect.get_feature_names())"
   ]
  },
  {
   "cell_type": "code",
   "execution_count": 24,
   "metadata": {
    "execution": {
     "iopub.execute_input": "2021-02-02T08:00:28.667130Z",
     "iopub.status.busy": "2021-02-02T08:00:28.666405Z",
     "iopub.status.idle": "2021-02-02T08:00:29.077498Z",
     "shell.execute_reply": "2021-02-02T08:00:29.076564Z"
    },
    "papermill": {
     "duration": 0.452128,
     "end_time": "2021-02-02T08:00:29.077670",
     "exception": false,
     "start_time": "2021-02-02T08:00:28.625542",
     "status": "completed"
    },
    "tags": []
   },
   "outputs": [
    {
     "name": "stdout",
     "output_type": "stream",
     "text": [
      "CPU times: user 252 ms, sys: 1.57 ms, total: 253 ms\n",
      "Wall time: 256 ms\n"
     ]
    }
   ],
   "source": [
    "from sklearn.ensemble import RandomForestClassifier\n",
    "\n",
    "#n_estimators -> 總共建立n棵決策樹，此值越大效果越好，但要訓練很9\n",
    "#oob_score -> 使用「袋外(Out of bag)樣本」測試，預設是False。設True只是要讓其他樹可以用那些沒被決策樹用到的value來繼續生成tree\n",
    "\n",
    "rf = RandomForestClassifier(n_estimators=20, oob_score=True, random_state=0)\n",
    "%time clf = rf.fit(X_train_tfidf, y_train)\n",
    "\n",
    "#有分(X_train、y_train 是訓練集，其中的X代表清洗後的message，y則是換成0(ham)或是1(spam)的數值)\n",
    "#   (X_test、y_test 是測試集)"
   ]
  },
  {
   "cell_type": "code",
   "execution_count": 25,
   "metadata": {
    "execution": {
     "iopub.execute_input": "2021-02-02T08:00:29.154693Z",
     "iopub.status.busy": "2021-02-02T08:00:29.153958Z",
     "iopub.status.idle": "2021-02-02T08:00:29.157210Z",
     "shell.execute_reply": "2021-02-02T08:00:29.156616Z"
    },
    "papermill": {
     "duration": 0.04472,
     "end_time": "2021-02-02T08:00:29.157384",
     "exception": false,
     "start_time": "2021-02-02T08:00:29.112664",
     "status": "completed"
    },
    "tags": []
   },
   "outputs": [
    {
     "name": "stdout",
     "output_type": "stream",
     "text": [
      "使用袋外數據(驗證集)測得的分數： 0.9685887368184878\n"
     ]
    }
   ],
   "source": [
    "#使用驗證集測試模型的準確率accuracy\n",
    "#Q: 訓練集內包含驗證集還有測試集\n",
    "print(\"使用袋外數據(驗證集)測得的分數：\", rf.oob_score_)"
   ]
  },
  {
   "cell_type": "code",
   "execution_count": 26,
   "metadata": {
    "execution": {
     "iopub.execute_input": "2021-02-02T08:00:29.236288Z",
     "iopub.status.busy": "2021-02-02T08:00:29.235612Z",
     "iopub.status.idle": "2021-02-02T08:00:29.262942Z",
     "shell.execute_reply": "2021-02-02T08:00:29.262278Z"
    },
    "papermill": {
     "duration": 0.07018,
     "end_time": "2021-02-02T08:00:29.263089",
     "exception": false,
     "start_time": "2021-02-02T08:00:29.192909",
     "status": "completed"
    },
    "tags": []
   },
   "outputs": [
    {
     "data": {
      "text/plain": [
       "[(0.03208769475397031, 'call'),\n",
       " (0.03009187209886268, 'txt'),\n",
       " (0.026421942886505668, 'stop'),\n",
       " (0.022712736132855703, 'claim'),\n",
       " (0.021208908882061117, 'free'),\n",
       " (0.019173775412939704, 'mobile'),\n",
       " (0.0161211499795171, 'nokia'),\n",
       " (0.015262506258600202, 'reply'),\n",
       " (0.013336643881804073, '500'),\n",
       " (0.013154469561045028, 'text')]"
      ]
     },
     "execution_count": 26,
     "metadata": {},
     "output_type": "execute_result"
    }
   ],
   "source": [
    "#查看Top10重要的分類特徵\n",
    "sorted(zip(rf.feature_importances_, vect.get_feature_names()), reverse=True)[0:10]"
   ]
  },
  {
   "cell_type": "code",
   "execution_count": 27,
   "metadata": {
    "execution": {
     "iopub.execute_input": "2021-02-02T08:00:29.346854Z",
     "iopub.status.busy": "2021-02-02T08:00:29.344250Z",
     "iopub.status.idle": "2021-02-02T08:00:29.351614Z",
     "shell.execute_reply": "2021-02-02T08:00:29.352102Z"
    },
    "papermill": {
     "duration": 0.0529,
     "end_time": "2021-02-02T08:00:29.352350",
     "exception": false,
     "start_time": "2021-02-02T08:00:29.299450",
     "status": "completed"
    },
    "tags": []
   },
   "outputs": [
    {
     "name": "stdout",
     "output_type": "stream",
     "text": [
      "ham: Free entry in 2 a wkly comp to win FA Cup final tkts 21st May 2005.\n"
     ]
    }
   ],
   "source": [
    "#自行輸入訊息並加以預測\n",
    "SMS = 'Free entry in 2 a wkly comp to win FA Cup final tkts 21st May 2005.'\n",
    "clean_text = text_process(SMS)\n",
    "\n",
    "simple_test_tf = vect.transform([clean_text])\n",
    "\n",
    "y_predSimpleTest_class = rf.predict(simple_test_tf.reshape(1,-1))\n",
    "\n",
    "if int(y_predSimpleTest_class) == 1:\n",
    "    print('spam: {}'.format(SMS))\n",
    "else:\n",
    "    print('ham: {}'.format(SMS))"
   ]
  },
  {
   "cell_type": "code",
   "execution_count": 28,
   "metadata": {
    "execution": {
     "iopub.execute_input": "2021-02-02T08:00:29.440770Z",
     "iopub.status.busy": "2021-02-02T08:00:29.435189Z",
     "iopub.status.idle": "2021-02-02T08:00:29.472222Z",
     "shell.execute_reply": "2021-02-02T08:00:29.471567Z"
    },
    "papermill": {
     "duration": 0.083091,
     "end_time": "2021-02-02T08:00:29.472430",
     "exception": false,
     "start_time": "2021-02-02T08:00:29.389339",
     "status": "completed"
    },
    "tags": []
   },
   "outputs": [
    {
     "data": {
      "text/plain": [
       "array([[949,   0],\n",
       "       [ 45, 121]])"
      ]
     },
     "execution_count": 28,
     "metadata": {},
     "output_type": "execute_result"
    }
   ],
   "source": [
    "from sklearn.metrics import confusion_matrix\n",
    "\n",
    "y_predTest_class = rf.predict(vect.transform(X_test))\n",
    "confusion_matrix(y_test, y_predTest_class)"
   ]
  },
  {
   "cell_type": "code",
   "execution_count": 29,
   "metadata": {
    "execution": {
     "iopub.execute_input": "2021-02-02T08:00:29.556354Z",
     "iopub.status.busy": "2021-02-02T08:00:29.555340Z",
     "iopub.status.idle": "2021-02-02T08:00:29.562507Z",
     "shell.execute_reply": "2021-02-02T08:00:29.563607Z"
    },
    "papermill": {
     "duration": 0.054601,
     "end_time": "2021-02-02T08:00:29.563913",
     "exception": false,
     "start_time": "2021-02-02T08:00:29.509312",
     "status": "completed"
    },
    "tags": []
   },
   "outputs": [
    {
     "name": "stdout",
     "output_type": "stream",
     "text": [
      "45\n",
      "2078                         85233 freeringtonereply real\n",
      "15      xxxmobilemovieclub use credit click wap link n...\n",
      "348     fancy shag dointerested sextextukcom txt xxuk ...\n",
      "1892    call 09090900040 listen extreme dirty live cha...\n",
      "3753    bloomberg message center 447797706009 wait app...\n",
      "304     sms ac blind date 4u rodds1 21m aberdeen unite...\n",
      "4966    donate å£250 unicefs asian tsunami disaster su...\n",
      "1457    claire havin borin time alone wanna cum 2nite ...\n",
      "4963    dear voucher holder next meal us use following...\n",
      "4067    tbspersolvo chasing us since sept forå£38 defi...\n",
      "5566    reminder o2 get 250 pounds free call credit de...\n",
      "5381                       1 new message call 02070836089\n",
      "5492    marvel mobile play official ultimate spiderman...\n",
      "3883    link picture sent also use httpalto18coukwavew...\n",
      "1939    people dogging area call 09090204448 join like...\n",
      "138     youll rcv msgs chat svc free hardcore services...\n",
      "2294                1 new message please call 08718738034\n",
      "2939                1 new message please call 08712400200\n",
      "2625    free ring tone text polys 87131 every week get...\n",
      "2913    sorry unsubscribe yet mob offer package min te...\n",
      "4766    unique user id 1172 removal send stop 87239 cu...\n",
      "528     recieve tone within next 24hrs terms condition...\n",
      "1262    hungry gay guys feeling hungry call 0871873055...\n",
      "3130    lookatme thanks purchase video clip lookatme y...\n",
      "751       important customer service announcement premier\n",
      "4247    accordingly repeat text word ok mobile phone send\n",
      "5466    httptms widelivecomindex wmlid820554ad0a170557...\n",
      "3979                                   ringtoneking 84484\n",
      "4408    chance win free bluetooth headset simply reply...\n",
      "4296    thesmszonecom lets send free anonymous masked ...\n",
      "1662    hi lookin saucy daytime fun wiv busty married ...\n",
      "4641    ripped get mobile content wwwclubmobycom call ...\n",
      "3858    win newest åòharry potter order phoenix book 5...\n",
      "5449    latest news police station toilet stolen cops ...\n",
      "2574    next amazing xxx picsfree1 video sent enjoy on...\n",
      "3358         sorry missed call lets talk time 07090201529\n",
      "1145    thank winner notified sms good luck future mar...\n",
      "1698    free msg sorry service ordered 81303 could del...\n",
      "899     free ringtone waiting collected simply text pa...\n",
      "4100    gsoh good spam ladiesu could b male gigolo joi...\n",
      "517     credits topped httpwwwbubbletextcom renewal pi...\n",
      "2247    back work 2morro half term c 2nite sexy passio...\n",
      "2401    babe want baby nasty thing filthyguys fancy ru...\n",
      "95      free ringtone waiting collected simply text pa...\n",
      "3461    bloomberg message center 447797706009 wait app...\n",
      "Name: clean_msg, dtype: object\n"
     ]
    }
   ],
   "source": [
    "### Type I error(嚴重) ###\n",
    "# Predict: Ham=0 & Actual: Spam=1\n",
    "\n",
    "print(len(X_test[(y_predTest_class==0) & (y_test==1)]))\n",
    "print(X_test[(y_predTest_class==0) & (y_test==1)])"
   ]
  },
  {
   "cell_type": "code",
   "execution_count": 30,
   "metadata": {
    "execution": {
     "iopub.execute_input": "2021-02-02T08:00:29.651948Z",
     "iopub.status.busy": "2021-02-02T08:00:29.651099Z",
     "iopub.status.idle": "2021-02-02T08:00:29.684550Z",
     "shell.execute_reply": "2021-02-02T08:00:29.683757Z"
    },
    "papermill": {
     "duration": 0.081494,
     "end_time": "2021-02-02T08:00:29.684719",
     "exception": false,
     "start_time": "2021-02-02T08:00:29.603225",
     "status": "completed"
    },
    "tags": []
   },
   "outputs": [
    {
     "name": "stdout",
     "output_type": "stream",
     "text": [
      "Accuracy score: 0.9596412556053812\n"
     ]
    }
   ],
   "source": [
    "#Accuracy準確率 (所有郵件(垃圾+有效)中，能夠正確預測多少比例的郵件)\n",
    "from sklearn.metrics import accuracy_score\n",
    "\n",
    "y_predTest_class = rf.predict(vect.transform(X_test))\n",
    "\n",
    "print('Accuracy score: {}'.format(accuracy_score(y_test, y_predTest_class)))\n",
    "#若資料正反例不平衡的狀況下，該指標不具參考價值"
   ]
  },
  {
   "cell_type": "code",
   "execution_count": 31,
   "metadata": {
    "execution": {
     "iopub.execute_input": "2021-02-02T08:00:29.772047Z",
     "iopub.status.busy": "2021-02-02T08:00:29.771148Z",
     "iopub.status.idle": "2021-02-02T08:00:29.805972Z",
     "shell.execute_reply": "2021-02-02T08:00:29.805316Z"
    },
    "papermill": {
     "duration": 0.082325,
     "end_time": "2021-02-02T08:00:29.806121",
     "exception": false,
     "start_time": "2021-02-02T08:00:29.723796",
     "status": "completed"
    },
    "tags": []
   },
   "outputs": [
    {
     "name": "stdout",
     "output_type": "stream",
     "text": [
      "Recall score: 0.7289156626506024\n"
     ]
    }
   ],
   "source": [
    "#Recall召回率 (所有實際是垃圾郵件中，能夠預測(召回)出多少比例的垃圾郵件)\n",
    "from sklearn.metrics import recall_score\n",
    "\n",
    "y_predTest_class = rf.predict(vect.transform(X_test))\n",
    "\n",
    "print('Recall score: {}'.format(recall_score(y_test, y_predTest_class)))"
   ]
  },
  {
   "cell_type": "code",
   "execution_count": 32,
   "metadata": {
    "execution": {
     "iopub.execute_input": "2021-02-02T08:00:29.898592Z",
     "iopub.status.busy": "2021-02-02T08:00:29.893122Z",
     "iopub.status.idle": "2021-02-02T08:00:29.926785Z",
     "shell.execute_reply": "2021-02-02T08:00:29.927340Z"
    },
    "papermill": {
     "duration": 0.082507,
     "end_time": "2021-02-02T08:00:29.927539",
     "exception": false,
     "start_time": "2021-02-02T08:00:29.845032",
     "status": "completed"
    },
    "tags": []
   },
   "outputs": [
    {
     "name": "stdout",
     "output_type": "stream",
     "text": [
      "Precision score: 1.0\n"
     ]
    }
   ],
   "source": [
    "#Precision精確率 (所有預測的垃圾郵件中，有多少比例(實際)為垃圾郵件)\n",
    "from sklearn.metrics import precision_score\n",
    "\n",
    "y_predTest_class = rf.predict(vect.transform(X_test))\n",
    "\n",
    "print('Precision score: {}'.format(precision_score(y_test, y_predTest_class)))"
   ]
  },
  {
   "cell_type": "code",
   "execution_count": 33,
   "metadata": {
    "execution": {
     "iopub.execute_input": "2021-02-02T08:00:30.026223Z",
     "iopub.status.busy": "2021-02-02T08:00:30.015429Z",
     "iopub.status.idle": "2021-02-02T08:00:30.053051Z",
     "shell.execute_reply": "2021-02-02T08:00:30.052318Z"
    },
    "papermill": {
     "duration": 0.086333,
     "end_time": "2021-02-02T08:00:30.053217",
     "exception": false,
     "start_time": "2021-02-02T08:00:29.966884",
     "status": "completed"
    },
    "tags": []
   },
   "outputs": [
    {
     "name": "stdout",
     "output_type": "stream",
     "text": [
      "F1 score: 0.8432055749128919\n"
     ]
    }
   ],
   "source": [
    "#F1-score綜合評估標準，值越大越好 (通常precision和recall都會一個高一個低，所以會用F1-score來看這個模型預測的準不準)\n",
    "from sklearn.metrics import f1_score\n",
    "\n",
    "y_predTest_class = rf.predict(vect.transform(X_test))\n",
    "print('F1 score: {}'.format(f1_score(y_test, y_predTest_class)))\n",
    "\n",
    "#那如果要比較哪個模型比較準，就要去建新模型，再算出新的F1-score來比較！"
   ]
  },
  {
   "cell_type": "code",
   "execution_count": 34,
   "metadata": {
    "execution": {
     "iopub.execute_input": "2021-02-02T08:00:30.136507Z",
     "iopub.status.busy": "2021-02-02T08:00:30.135764Z",
     "iopub.status.idle": "2021-02-02T08:00:30.149389Z",
     "shell.execute_reply": "2021-02-02T08:00:30.150006Z"
    },
    "papermill": {
     "duration": 0.057027,
     "end_time": "2021-02-02T08:00:30.150197",
     "exception": false,
     "start_time": "2021-02-02T08:00:30.093170",
     "status": "completed"
    },
    "tags": []
   },
   "outputs": [
    {
     "name": "stdout",
     "output_type": "stream",
     "text": [
      "              precision    recall  f1-score   support\n",
      "\n",
      "           0       0.95      1.00      0.98       949\n",
      "           1       1.00      0.73      0.84       166\n",
      "\n",
      "    accuracy                           0.96      1115\n",
      "   macro avg       0.98      0.86      0.91      1115\n",
      "weighted avg       0.96      0.96      0.96      1115\n",
      "\n",
      "\n",
      "[[949   0]\n",
      " [ 45 121]]\n"
     ]
    }
   ],
   "source": [
    "#評估模型 -> 這邊可以直接列出全部！\n",
    "from sklearn.metrics import classification_report, confusion_matrix\n",
    "\n",
    "print(classification_report(y_test, y_predTest_class))\n",
    "print()\n",
    "print(confusion_matrix(y_test, y_predTest_class))"
   ]
  }
 ],
 "metadata": {
  "kernelspec": {
   "display_name": "Python 3",
   "language": "python",
   "name": "python3"
  },
  "language_info": {
   "codemirror_mode": {
    "name": "ipython",
    "version": 3
   },
   "file_extension": ".py",
   "mimetype": "text/x-python",
   "name": "python",
   "nbconvert_exporter": "python",
   "pygments_lexer": "ipython3",
   "version": "3.7.9"
  },
  "papermill": {
   "default_parameters": {},
   "duration": 15.896673,
   "end_time": "2021-02-02T08:00:31.003900",
   "environment_variables": {},
   "exception": null,
   "input_path": "__notebook__.ipynb",
   "output_path": "__notebook__.ipynb",
   "parameters": {},
   "start_time": "2021-02-02T08:00:15.107227",
   "version": "2.2.2"
  }
 },
 "nbformat": 4,
 "nbformat_minor": 4
}
